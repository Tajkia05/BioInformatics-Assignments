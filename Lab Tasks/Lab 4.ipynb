{
  "nbformat": 4,
  "nbformat_minor": 0,
  "metadata": {
    "colab": {
      "name": "Lab4.ipynb",
      "provenance": [],
      "collapsed_sections": []
    },
    "kernelspec": {
      "name": "python3",
      "display_name": "Python 3"
    },
    "language_info": {
      "name": "python"
    }
  },
  "cells": [
    {
      "cell_type": "markdown",
      "metadata": {
        "id": "_qNdl0BWu-K8"
      },
      "source": [
        "ba2f -> Implement RandomizedMotifSearch"
      ]
    },
    {
      "cell_type": "code",
      "metadata": {
        "colab": {
          "base_uri": "https://localhost:8080/"
        },
        "id": "3uNAptuZu_1V",
        "outputId": "f6e32434-a73a-409f-db56-a4ca932870df"
      },
      "source": [
        "import numpy as np\n",
        "from random import randint\n",
        "\n",
        "def generateTextKmer(text, k):\n",
        "  kmers = set()\n",
        "  for i in range(len(text)-k+1):\n",
        "    kmers.add(text[i:i+k])\n",
        "  return kmers\n",
        "\n",
        "def CountMatrix(motifs): \n",
        "  count = np.zeros((4,len(motifs[0])))\n",
        "  for motif in motifs:\n",
        "    for i in range(len(motif)):\n",
        "      if motif[i-1] == 'A':\n",
        "        count[0][i-1] += 1\n",
        "      elif motif[i-1] == 'C':\n",
        "        count[1][i-1] += 1\n",
        "      elif motif[i-1] == 'G':\n",
        "        count[2][i-1] += 1\n",
        "      elif motif[i-1] == 'T':\n",
        "        count[3][i-1] += 1\n",
        "  return count\n",
        "\n",
        "def ProfileMatrix(motifs):\n",
        "  countMat = CountMatrix(motifs)\n",
        "  pseudoMat = PseudoCountMatrix(countMat)\n",
        "  profileMatrx = np.zeros((4,len(motifs[0])))\n",
        "  for row in range(4):\n",
        "    for col in range(k):\n",
        "      profileMatrx[row][col] = pseudoMat[row][col] / len(motifs)\n",
        "  return profileMatrx\n",
        "\n",
        "def PseudoCountMatrix(countMat):\n",
        "  pseudo = [1*4]*len(countMat[0])\n",
        "  pseudoMatrix = pseudo+countMat\n",
        "  return pseudoMatrix\n",
        "\n",
        "\n",
        "def ProfileMostProbableKmer(genome, k, profile_matrix):\n",
        "  maxprob = 0\n",
        "  kmer = genome[0:k]\n",
        "  for i in range(1,len(genome) - k +1):\n",
        "    prob = 1\n",
        "    pattern = genome[i:i+k]\n",
        "    for j in range(k):\n",
        "      l = symbolToNumber(pattern[j])\n",
        "      prob *= profile_matrix[l][j]\n",
        "    if prob > maxprob:\n",
        "      maxprob = prob\n",
        "      kmer = pattern\n",
        "  return kmer\n",
        "  \n",
        "def symbolToNumber(symbol):\n",
        "\tif symbol == \"A\":\n",
        "\t\treturn 0\n",
        "\tif symbol == \"C\":\n",
        "\t\treturn 1\n",
        "\tif symbol == \"G\":\n",
        "\t\treturn 2\n",
        "\tif symbol == \"T\":\n",
        "\t\treturn 3\n",
        "\n",
        "def NumberToSymbol(number):\n",
        "\tif number == 0:\n",
        "\t\treturn \"A\"\n",
        "\tif number == 1:\n",
        "\t\treturn \"C\"\n",
        "\tif number == 2:\n",
        "\t\treturn \"G\"\n",
        "\tif number == 3:\n",
        "\t\treturn \"T\"\n",
        "\n",
        "def Consensus(profile):\n",
        "  consensus = \"\"\n",
        "  for col in range(len(profile[0])):  \n",
        "    max = 0\n",
        "    loc = 0\n",
        "    for row in range(4):\n",
        "      if profile[row][col] > max:\n",
        "        loc = row  \n",
        "        max = profile[row][col]  \n",
        "    consensus += NumberToSymbol(loc)  \n",
        "  return consensus\n",
        "\n",
        "neucleotide_base = {0:'A', 1:'C', 2:'G', 3:'T'}\n",
        "def NumberToPattern(index, k):\n",
        "    if(k == 1): #base case\n",
        "        return neucleotide_base[index]\n",
        "    pref_index = int(index/4)\n",
        "    rem = int(index%4)\n",
        "    symbol = neucleotide_base[rem] \n",
        "    pref_pattern = numberToPattern(pref_index, k-1) \n",
        "    \n",
        "    return pref_pattern+symbol\n",
        "\n",
        "def Score(motifs):\n",
        "  profile = ProfileMatrix(motifs)\n",
        "  cons = Consensus(profile)\n",
        "  score = 0\n",
        "  for motif in motifs: \n",
        "    for i in range(len(motif)): \n",
        "      if cons[i] != motif[i]:\n",
        "        score+=1\n",
        "  return score\n",
        "\n",
        "def getRandom(n):\n",
        "  return randint(0, n)\n",
        "\n",
        "def FormRandomlyMotifs(genomes, k):\n",
        "  motifs = []\n",
        "  for genome in genomes:\n",
        "    start = getRandom(len(genome)-k)\n",
        "    motifs.append(genome[start:start+k])\n",
        "  return motifs\n",
        "\n",
        "def generateMotifsSet(profile_matrix, k, genomes):\n",
        "  probKmers = []\n",
        "  for genome in genomes:\n",
        "    probKmers.append(ProfileMostProbableKmer(genome, k, profile_matrix))\n",
        "  return probKmers\n",
        "\n",
        "def RandomizedMotifSearch(genomes, k, t):\n",
        "  motifs = FormRandomlyMotifs(genomes, k)\n",
        "  bestMotifs = motifs\n",
        "  while True:\n",
        "    profile_matrix = ProfileMatrix(motifs)\n",
        "    motifs = generateMotifsSet(profile_matrix, k, genomes)\n",
        "    if Score(motifs) < Score(bestMotifs):\n",
        "      bestMotifs = motifs\n",
        "    else:\n",
        "      return bestMotifs\n",
        "\n",
        "\n",
        "k = int(input(\"Enter pattern length: \"))\n",
        "t = int(input(\"Enter no. of Genomes: \"))\n",
        "with open('/content/rosalind_ba2f.txt', 'r') as f:\n",
        "  genomelist = [line.strip() for line in f.readlines()]\n",
        "  \n",
        "best_score = float(\"Inf\")\n",
        "best_result = []\n",
        "for i in range(1000):\n",
        "  ans = RandomizedMotifSearch(genomelist, k, t)\n",
        "  curr_score = Score(ans)\n",
        "  if curr_score <= best_score:\n",
        "    best_score = curr_score\n",
        "    best_result = ans\n",
        "for line in best_result:\n",
        "  print(line)"
      ],
      "execution_count": 2,
      "outputs": [
        {
          "output_type": "stream",
          "text": [
            "Enter pattern length: 8\n",
            "Enter no. of Genomes: 5\n",
            "TCTCGGGG\n",
            "CCAAGGTG\n",
            "TACAGGCG\n",
            "TTCAGGTG\n",
            "TCCACGTG\n"
          ],
          "name": "stdout"
        }
      ]
    },
    {
      "cell_type": "markdown",
      "metadata": {
        "id": "VhSjf1J7vIhm"
      },
      "source": [
        "ba2g -> Implement GibbsSampler"
      ]
    },
    {
      "cell_type": "code",
      "metadata": {
        "colab": {
          "base_uri": "https://localhost:8080/"
        },
        "id": "vmWU8NGBvNOM",
        "outputId": "e11d70f8-e593-4ce0-c8d9-a315d877f9ae"
      },
      "source": [
        "import numpy as np\n",
        "import random\n",
        "from random import randint, choices\n",
        "\n",
        "def FormBestMotifs(genomes, k,t):\n",
        "  bmotifs = []\n",
        "  for genome in genomes:\n",
        "    bmotifs.append(genome[:k])\n",
        "  return bmotifs\n",
        "\n",
        "def generateTextKmer(text, k):\n",
        "  kmers = []\n",
        "  for i in range(len(text)-k+1):\n",
        "    kmers.append(text[i:i+k])\n",
        "  return kmers\n",
        "\n",
        "\n",
        "def FormCountMatrix(motifs, k): \n",
        "  count = np.zeros((4,len(motifs[0])))\n",
        "  for motif in motifs:\n",
        "    for i in range(len(motif)):\n",
        "      if motif[i-1] == 'A':\n",
        "        count[0][i-1] += 1\n",
        "      elif motif[i-1] == 'C':\n",
        "        count[1][i-1] += 1\n",
        "      elif motif[i-1] == 'G':\n",
        "        count[2][i-1] += 1\n",
        "      elif motif[i-1] == 'T':\n",
        "        count[3][i-1] += 1\n",
        "  return count\n",
        "\n",
        "def FormProfile(motifs, k): \n",
        "  countMat = FormCountMatrix(motifs, k)\n",
        "  pseudoMat = PseudoCountMatrix(countMat, k)\n",
        "  profileMatrx = np.zeros((4,len(motifs[0])))\n",
        "  for row in range(4):\n",
        "    for col in range(k):\n",
        "      profileMatrx[row][col] = pseudoMat[row][col] / len(motifs)\n",
        "  return profileMatrx\n",
        "\n",
        "def PseudoCountMatrix(countMat, k): \n",
        "  pseudo = [1*4] * k\n",
        "  pseudoMatrix = pseudo + countMat\n",
        "  return pseudoMatrix\n",
        "\n",
        "  \n",
        "def symbolToNumber(symbol):\n",
        "\tif symbol == \"A\":\n",
        "\t\treturn 0\n",
        "\tif symbol == \"C\":\n",
        "\t\treturn 1\n",
        "\tif symbol == \"G\":\n",
        "\t\treturn 2\n",
        "\tif symbol == \"T\":\n",
        "\t\treturn 3\n",
        "\n",
        "def NumberToSymbol(number):\n",
        "\tif number == 0:\n",
        "\t\treturn \"A\"\n",
        "\tif number == 1:\n",
        "\t\treturn \"C\"\n",
        "\tif number == 2:\n",
        "\t\treturn \"G\"\n",
        "\tif number == 3:\n",
        "\t\treturn \"T\"\n",
        "\n",
        "def Consensus(profile):\n",
        "  consensus = \"\"\n",
        "  for col in range(len(profile[0])):  \n",
        "    max = 0\n",
        "    loc = 0\n",
        "    for row in range(4):\n",
        "      if profile[row][col] > max:\n",
        "        loc = row  \n",
        "        max = profile[row][col]\n",
        "    consensus += NumberToSymbol(loc)  \n",
        "  return consensus\n",
        "\n",
        "\n",
        "def Score(motifs, k):\n",
        "  profile = FormProfile(motifs, k)\n",
        "  cons = Consensus(profile)\n",
        "  score = 0\n",
        "  for motif in motifs:  \n",
        "    for i in range(len(motif)): \n",
        "      if cons[i] != motif[i]:\n",
        "        score+=1\n",
        "  return score\n",
        "\n",
        "def getRandom(n):\n",
        "  return randint(0, n)\n",
        "\n",
        "def FormRandomlyMotifs(genomes, k):\n",
        "  motifs = []\n",
        "  for genome in genomes:\n",
        "    start = getRandom(len(genome)-k)\n",
        "    motifs.append(genome[start:start+k])\n",
        "  return motifs\n",
        "\n",
        "def generateMotifsSet(profile_matrix, k, genomes):\n",
        "  probKmers = []\n",
        "  for genome in genomes:\n",
        "    probKmers.append(ProfileMostProbableKmer(genome, k, profile_matrix))\n",
        "  return probKmers\n",
        "\n",
        "def probability(kmer, profile_matrix):\n",
        "  prob = 1\n",
        "  for j in range(len(kmer)):\n",
        "      l = symbolToNumber(kmer[j])\n",
        "      prob *= profile_matrix[l][j]\n",
        "  return prob\n",
        "\n",
        "def ProfileRandomGeneratedKmer(profile_matrix, k, genome):\n",
        "  prob = []\n",
        "  kmers = generateTextKmer(genome, k)\n",
        "  for kmer in kmers:\n",
        "    prob.append(probability(kmer, profile_matrix))\n",
        "  \n",
        "  motifs = random.choices(kmers, prob)\n",
        "  return motifs[0]\n",
        "\n",
        "\n",
        "def GibbsSampler(genomes, k, t, N):\n",
        "  motifs = FormRandomlyMotifs(genomes, k)\n",
        "  bestMotifs = motifs\n",
        "  for j in range(N):\n",
        "    i = getRandom(t-1)\n",
        "    profile_matrix = FormProfile(motifs[:i] + motifs[i+1 :], k)\n",
        "    motifi = ProfileRandomGeneratedKmer(profile_matrix, k, genomes[i])\n",
        "    motifs[i] = motifi \n",
        "    if Score(motifs, k) < Score(bestMotifs, k):\n",
        "      bestMotifs = motifs \n",
        "  return bestMotifs\n",
        "\n",
        "k = 8\n",
        "t = 5  \n",
        "N = 100 \n",
        "with open('/content/rosalind_ba2g.txt', 'r') as f:\n",
        "  genomelist = [line.strip() for line in f.readlines()]\n",
        "\n",
        "best = GibbsSampler(genomelist, k, t, N)\n",
        "best_score = Score(best, k)\n",
        "best_result = []\n",
        "for i in range(20):\n",
        "  ans = GibbsSampler(genomelist, k, t, N)\n",
        "  curr_score = Score(ans, k)\n",
        "  if curr_score < best_score:\n",
        "    best_score = curr_score\n",
        "    best_result = ans\n",
        "for line in best_result:\n",
        "    print(line)"
      ],
      "execution_count": 7,
      "outputs": [
        {
          "output_type": "stream",
          "text": [
            "CAGTAAAC\n",
            "GTGTAAGT\n",
            "CCGAAAGA\n",
            "GTTTCAGG\n",
            "ATGTTGGC\n"
          ],
          "name": "stdout"
        }
      ]
    },
    {
      "cell_type": "markdown",
      "metadata": {
        "id": "S1H5GWOP3y_6"
      },
      "source": [
        "ba3a -> Generate the k-mer Composition of a String"
      ]
    },
    {
      "cell_type": "code",
      "metadata": {
        "colab": {
          "base_uri": "https://localhost:8080/"
        },
        "id": "eYqebXfw4Brr",
        "outputId": "ad6917d7-2976-4b6f-ee3c-51780edb9d46"
      },
      "source": [
        "def KmerCompositionofString(genome, k):\n",
        "  kmers = []\n",
        "  for i in range(len(genome)-k+1):\n",
        "    kmers.append(genome[i:i+k])\n",
        "  kmers.sort()\n",
        "  return kmers\n",
        "\n",
        "k = int(input(\"Enter the length of pattern\"))\n",
        "genome = input(\"Enter the string: \")\n",
        "ans = KmerCompositionofString(genome, k)\n",
        "#print(\"The answer is: \")\n",
        "print(*ans, sep='\\n')"
      ],
      "execution_count": null,
      "outputs": [
        {
          "output_type": "stream",
          "text": [
            "Enter the length of pattern5\n",
            "Enter the string: CAATCCAAC\n",
            "AATCC\n",
            "ATCCA\n",
            "CAATC\n",
            "CCAAC\n",
            "TCCAA\n"
          ],
          "name": "stdout"
        }
      ]
    },
    {
      "cell_type": "markdown",
      "metadata": {
        "id": "NzqY30Ws7vos"
      },
      "source": [
        "ba3b -> Reconstruct a String from its Genome Path\n"
      ]
    },
    {
      "cell_type": "code",
      "metadata": {
        "colab": {
          "base_uri": "https://localhost:8080/"
        },
        "id": "jugd3d7Z71fp",
        "outputId": "e823f1de-9b8c-46c4-dd66-e699505764dc"
      },
      "source": [
        "def ReconstructGenomePath(genomelist):\n",
        "  path = genomelist[0] #start genome\n",
        "  print(path)\n",
        "  for i in range(1, len(genomelist)):\n",
        "    path += genomelist[i][-1] #[-1] returns the last charachter of a string\n",
        "  return path\n",
        "\n",
        "genomelist = []\n",
        "#read a file line by line into a list, (readling file line into genomelist)\n",
        "# with open(filename) as f:\n",
        "#     content = f.readlines()\n",
        "with open('/content/ReconstructString.txt', 'r') as f:\n",
        "        genomelist = [line.strip() for line in f.readlines()] #content = [x.strip() for x in content] -> removes whitespace charachters ('\\n) from end of each line\n",
        "ans = ReconstructGenomePath(genomelist)\n",
        "print(ans)\n",
        "\n",
        "    "
      ],
      "execution_count": null,
      "outputs": [
        {
          "output_type": "stream",
          "text": [
            "ACCGA\n",
            "ACCGAAGCT\n"
          ],
          "name": "stdout"
        }
      ]
    },
    {
      "cell_type": "markdown",
      "metadata": {
        "id": "335El4ZUNi6F"
      },
      "source": [
        "ba3c -> Construct the Overlap Graph of a Collection of k-mers"
      ]
    },
    {
      "cell_type": "code",
      "metadata": {
        "colab": {
          "base_uri": "https://localhost:8080/"
        },
        "id": "r1CNLrmbEPnL",
        "outputId": "5edd31de-0263-473e-a6ff-18d1239fa757"
      },
      "source": [
        "def OverlapGraph(genomelist):\n",
        "  genomelist.sort()\n",
        "  for genome in genomelist:\n",
        "    for gene in genomelist:\n",
        "      if SuffixofString(genome) == PrefixofString(gene):\n",
        "        print(genome +\" -> \"+gene)\n",
        "\n",
        "def SuffixofString(string):\n",
        "    return string[1:len(string)]\n",
        "\n",
        "def PrefixofString(string):\n",
        "    return string[0:len(string)-1]\n",
        "\n",
        "genomelist = []\n",
        "with open('/content/OverlapGraphStrings.txt', 'r') as f:\n",
        "        genomelist = [line.strip() for line in f.readlines()] \n",
        "OverlapGraph(genomelist)"
      ],
      "execution_count": null,
      "outputs": [
        {
          "output_type": "stream",
          "text": [
            "AGGCA -> GGCAT\n",
            "CATGC -> ATGCG\n",
            "GCATG -> CATGC\n",
            "GGCAT -> GCATG\n"
          ],
          "name": "stdout"
        }
      ]
    },
    {
      "cell_type": "markdown",
      "metadata": {
        "id": "p_iQmlbw8gM2"
      },
      "source": [
        "ba3d -> Construct the De Bruijn Graph of a String"
      ]
    },
    {
      "cell_type": "code",
      "metadata": {
        "id": "FaTghbWod2mK",
        "colab": {
          "base_uri": "https://localhost:8080/"
        },
        "outputId": "5691d6f6-a7b1-4be5-b15e-66b7b902983f"
      },
      "source": [
        "def KmerCompositionofString(genome, k):\n",
        "  kmers = []\n",
        "  for i in range(len(genome)-k+1):\n",
        "    kmers.append(genome[i:i+k])\n",
        "  kmers.sort()\n",
        "  return kmers \n",
        "\n",
        "def SuffixofString(string):\n",
        "    return string[1:len(string)]\n",
        "\n",
        "def PrefixofString(string):\n",
        "    return string[0:len(string)-1]\n",
        "\n",
        "def DeBruign(k, genome):\n",
        "  result={}\n",
        "  kmers = KmerCompositionofString(genome, k)\n",
        "  for kmer in kmers:\n",
        "    if PrefixofString(kmer) not in result:\n",
        "      result[PrefixofString(kmer)] = SuffixofString(kmer)  #AAGA if mydict[AAG] is not in diction\n",
        "    else:\n",
        "      result[PrefixofString(kmer)] += ',' + SuffixofString(kmer)\n",
        "  return result\n",
        "\n",
        "k = int(input(\"Enter the length of kmer: \"))\n",
        "genome = input(\"Enter the genome: \")\n",
        "ans = DeBruign(k, genome)\n",
        "for key, value in  sorted(ans.items()): #sort dictionary by keys\n",
        "  print(key +\" -> \"+ value)\n",
        "\n"
      ],
      "execution_count": null,
      "outputs": [
        {
          "output_type": "stream",
          "text": [
            "Enter the length of kmer: 4\n",
            "Enter the genome: AAGATTCTCTAC\n",
            "AAG -> AGA\n",
            "AGA -> GAT\n",
            "ATT -> TTC\n",
            "CTA -> TAC\n",
            "CTC -> TCT\n",
            "GAT -> ATT\n",
            "TCT -> CTA,CTC\n",
            "TTC -> TCT\n"
          ],
          "name": "stdout"
        }
      ]
    },
    {
      "cell_type": "markdown",
      "metadata": {
        "id": "Ml2IdB9m8aeI"
      },
      "source": [
        "ba3e -> Construct the De Bruijn Graph of a Collection of k-mers"
      ]
    },
    {
      "cell_type": "code",
      "metadata": {
        "colab": {
          "base_uri": "https://localhost:8080/"
        },
        "id": "29VMr2kTy4Wv",
        "outputId": "e846a5fd-11f9-4bb3-9c25-617c367d29a8"
      },
      "source": [
        "def SuffixofString(string):\n",
        "    return string[1:len(string)]\n",
        "\n",
        "def PrefixofString(string):\n",
        "    return string[0:len(string)-1]\n",
        "\n",
        "def DeBruign(kmers):\n",
        "  result={}\n",
        "  for kmer in kmers:\n",
        "    if PrefixofString(kmer) not in result:\n",
        "      result[PrefixofString(kmer)] = SuffixofString(kmer)  #AAGA if mydict[AAG] is not in diction\n",
        "    else:\n",
        "      result[PrefixofString(kmer)] += ',' + SuffixofString(kmer)\n",
        "  return result\n",
        "\n",
        "kmers = []\n",
        "with open('/content/DeBruignFromKmer.txt', 'r') as f:\n",
        "        kmers = [line.strip() for line in f.readlines()] \n",
        "ans = DeBruign(kmers)\n",
        "for key, value in  sorted(ans.items()): #sort dictionary by keys\n",
        "  print(key +\" -> \"+ value)"
      ],
      "execution_count": null,
      "outputs": [
        {
          "output_type": "stream",
          "text": [
            "AGG -> GGG\n",
            "CAG -> AGG,AGG\n",
            "GAG -> AGG\n",
            "GGA -> GAG\n",
            "GGG -> GGG,GGA\n"
          ],
          "name": "stdout"
        }
      ]
    }
  ]
}