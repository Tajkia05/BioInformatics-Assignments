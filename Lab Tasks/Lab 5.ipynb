{
  "nbformat": 4,
  "nbformat_minor": 0,
  "metadata": {
    "colab": {
      "name": "Lab5.ipynb",
      "provenance": [],
      "collapsed_sections": []
    },
    "kernelspec": {
      "name": "python3",
      "display_name": "Python 3"
    },
    "language_info": {
      "name": "python"
    }
  },
  "cells": [
    {
      "cell_type": "markdown",
      "metadata": {
        "id": "5C8asqdAHFrC"
      },
      "source": [
        "ba4a -> Translate an RNA String into an Amino Acid String"
      ]
    },
    {
      "cell_type": "code",
      "metadata": {
        "colab": {
          "base_uri": "https://localhost:8080/"
        },
        "id": "PTxsxbArHIVy",
        "outputId": "4b9b6bd6-629b-4d46-dc11-8aa2c2df3074"
      },
      "source": [
        "amino_dict = {0:'K', 1:'N', 2:'K', 3:'N', 4:'T', 5:'T', 6: 'T', 7:'T', 8:'R', 9:'S', 10:'R', 11:'S', 12:'I', 13:'I', 14:'M',15:'I', 16:'Q', 17:'H',  18:'Q', 19:'H',\n",
        "20:'P', 21:'P', 22:'P', 23:'P',24:'R',25:'R', 26:'R', 27:'R',28:'L', 29:'L', 30:'L', 31:'L', 32:'E', 33:'D', 34:'E', 35: 'D', 36:'A', 37:'A', 38:'A', 39:'A',\n",
        "40:'G', 41:'G', 42:'G', 43:'G', 44:'V' , 45:'V', 46:'V' , 47:'V', 48:'', 49:'Y', 50:'', 51:'Y', 52:'S', 53:'S', 54:'S', 55:'S', 56:'', 57:'C', 58:'W',59:'C',\n",
        "60:'L', 61:'F', 62:'L', 63:'F'}\n",
        "\n",
        "neucleotide_base = {'A':0, 'C':1, 'G':2, 'U':3}\n",
        "def patternToNumber(pattern):\n",
        "    if pattern == \"\":\n",
        "        return 0\n",
        "    symbol = pattern[len(pattern)-1]\n",
        "    #print(neucleotide_base[symbol])\n",
        "    prefix = pattern[0:len(pattern)-1]\n",
        "    \n",
        "    return 4*patternToNumber(prefix)+neucleotide_base[symbol] \n",
        "\n",
        "def KmerCompositionofString(genome):\n",
        "  kmers = []\n",
        "  length = len(genome)\n",
        "  i = 0\n",
        "  while i<length-2:\n",
        "    kmers.append(genome[i:i+3])\n",
        "    i=i+3\n",
        "\n",
        "  #kmers.sort()\n",
        "  return kmers \n",
        "def TranslateRna(genome):\n",
        "  kmers = KmerCompositionofString(genome)\n",
        "  ans = []\n",
        "  for kmer in kmers:\n",
        "    pattonum = patternToNumber(kmer)\n",
        "    # print(kmer)\n",
        "    # print(pattonum)\n",
        "    ans.append(amino_dict[pattonum])\n",
        "  return ans\n",
        "  \n",
        "genome = input(\"Enter the genome: \").upper()\n",
        "result = TranslateRna(genome)\n",
        "print(\"The answer is: \")\n",
        "print(*result, sep='')\n"
      ],
      "execution_count": null,
      "outputs": [
        {
          "output_type": "stream",
          "text": [
            "Enter the genome: AUGGCCAUGGCGCCCAGAACUGAGAUCAAUAGUACCCGUAUUAACGGGUGA\n",
            "The answer is: \n",
            "MAMAPRTEINSTRING\n"
          ],
          "name": "stdout"
        }
      ]
    },
    {
      "cell_type": "markdown",
      "metadata": {
        "id": "WS3zDHZlPExM"
      },
      "source": [
        "ba4b -> Find Substrings of a Genome Encoding a Given Amino Acid String"
      ]
    },
    {
      "cell_type": "code",
      "metadata": {
        "colab": {
          "base_uri": "https://localhost:8080/"
        },
        "id": "C_uiOHhUeMBj",
        "outputId": "a129d493-06ae-4249-ff06-fe1297b57a6b"
      },
      "source": [
        "amino_dict = {0:'K', 1:'N', 2:'K', 3:'N', 4:'T', 5:'T', 6: 'T', 7:'T', 8:'R', 9:'S', 10:'R', 11:'S', 12:'I', 13:'I', 14:'M',15:'I', 16:'Q', 17:'H',  18:'Q', 19:'H',\n",
        "20:'P', 21:'P', 22:'P', 23:'P',24:'R',25:'R', 26:'R', 27:'R',28:'L', 29:'L', 30:'L', 31:'L', 32:'E', 33:'D', 34:'E', 35: 'D', 36:'A', 37:'A', 38:'A', 39:'A',\n",
        "40:'G', 41:'G', 42:'G', 43:'G', 44:'V' , 45:'V', 46:'V' , 47:'V', 48:'', 49:'Y', 50:'', 51:'Y', 52:'S', 53:'S', 54:'S', 55:'S', 56:'', 57:'C', 58:'W',59:'C',\n",
        "60:'L', 61:'F', 62:'L', 63:'F'}\n",
        "\n",
        "neucleotide_base = {'A':0, 'C':1, 'G':2, 'U':3}\n",
        "def patternToNumber(pattern):\n",
        "    if pattern == \"\":\n",
        "        return 0\n",
        "    symbol = pattern[len(pattern)-1]\n",
        "    #print(neucleotide_base[symbol])\n",
        "    prefix = pattern[0:len(pattern)-1]\n",
        "    \n",
        "    return 4*patternToNumber(prefix)+neucleotide_base[symbol] \n",
        "\n",
        "def KmerCompositionofString(genome):\n",
        "  kmers = []\n",
        "  length = len(genome)\n",
        "  i = 0\n",
        "  while i<length-2:\n",
        "    kmers.append(genome[i:i+3])\n",
        "    i=i+3\n",
        "  return kmers \n",
        "\n",
        "def TranslateRna(genome):\n",
        "  kmers = KmerCompositionofString(genome)\n",
        "  ans = \"\"\n",
        "  for kmer in kmers:\n",
        "    pattonum = patternToNumber(kmer)\n",
        "    ans+=amino_dict[pattonum]\n",
        "  return ans\n",
        "\n",
        "def reverseCompliment(text):\n",
        "    result = \"\"\n",
        "    for i in range(len(text)):\n",
        "        if(text[i] == 'A'):\n",
        "            result+='T'\n",
        "        elif(text[i] == 'T'):\n",
        "            result+='A'\n",
        "        elif(text[i] == 'G'):\n",
        "            result+='C'\n",
        "        elif(text[i] == 'C'):\n",
        "            result+='G'\n",
        "    return result[::-1] #texx[::-1] used for reversing\n",
        "\n",
        "def GenomeEncoding(genome, aminoacid):\n",
        "  len_aminoacid = len(aminoacid)\n",
        "  partitionlen = len_aminoacid*3\n",
        "  #rnagenome = DnaToRna(genome)\n",
        "  result = []\n",
        "  for i in range(len(genome)-partitionlen+1):\n",
        "    portion = genome[i:i+partitionlen]\n",
        "    reversecompliment = reverseCompliment(portion)\n",
        "    if TranslateRna(DnaToRna(portion)) == aminoacid: #if the portion encodes the peptide\n",
        "      result.append(portion)\n",
        "    if TranslateRna(DnaToRna(reversecompliment)) == aminoacid: #if reverse of portion encodec peptide print portion\n",
        "      result.append(portion)\n",
        "  return result\n",
        "  \n",
        "\n",
        "def DnaToRna(genome):\n",
        "  for i in genome:\n",
        "      rnagenome = genome.replace('T', 'U')\n",
        "  return rnagenome\n",
        "\n",
        "def RnaToDna(genome):\n",
        "  for i in genome:\n",
        "      dnagenome = genome.replace('U', 'T')\n",
        "  return dnagenome\n",
        "\n",
        "\n",
        "genome = input(\"Enter the genome: \")\n",
        "genome = genome.upper()\n",
        "aminoacid = input(\"Enter the amino acid sequence: \")\n",
        "aminoacid = aminoacid.upper()\n",
        "ans = GenomeEncoding(genome, aminoacid)\n",
        "print(*ans, sep='\\n')\n",
        "\n"
      ],
      "execution_count": null,
      "outputs": [
        {
          "output_type": "stream",
          "text": [
            "Enter the genome: ATGGCCATGGCCCCCAGAACTGAGATCAATAGTACCCGTATTAACGGGTGA\n",
            "Enter the amino acid sequence: ma\n",
            "ATGGCC\n",
            "GGCCAT\n",
            "ATGGCC\n"
          ],
          "name": "stdout"
        }
      ]
    },
    {
      "cell_type": "markdown",
      "metadata": {
        "id": "XQObqWWcTfCV"
      },
      "source": [
        "ba4c -> Generate the Theoretical Spectrum of a Cyclic Peptide"
      ]
    },
    {
      "cell_type": "code",
      "metadata": {
        "colab": {
          "base_uri": "https://localhost:8080/"
        },
        "id": "MXnfVILyToEN",
        "outputId": "94bc6038-083b-4732-c88f-23b6b84013e3"
      },
      "source": [
        "mass = {'G':57, 'A':71, 'S':87, 'P':97, 'V':99, 'T':101, 'C':103, 'I':113, 'L':113, 'N':114, 'D':115, 'K':128, 'Q':128, 'E':129, 'M':131, 'H':137, 'F':147, 'R':156, 'Y':163, 'W':186}\n",
        "\n",
        "def CalculateMass(pep):\n",
        "  massvalue = 0;\n",
        "  for ch in pep:\n",
        "    massvalue+=mass[ch]\n",
        "  return massvalue\n",
        "def TheoreticalSpectrumList(peptide):\n",
        "  spectrum = [0] #initilly a zero is stored\n",
        "  for i in range(1,len(peptide)):  #for counting the length of subpeptides N, Q, NQ, QE etc\n",
        "    for j in range(len(peptide)):\n",
        "      if (i+j) > len(peptide):\n",
        "        new = i+j-len(peptide)\n",
        "        subpep = peptide[j:]+peptide[0:new]\n",
        "        spectrum.append(CalculateMass(subpep))\n",
        "      else:\n",
        "        spectrum.append(CalculateMass(peptide[j:j+i]))\n",
        "  spectrum.append(CalculateMass(peptide))\n",
        "  spectrum.sort()\n",
        "  return spectrum\n",
        "\n",
        "\n",
        "peptide = input(\"Enter the amino acid string Peptide: \")\n",
        "peptide = peptide.upper()\n",
        "result = (TheoreticalSpectrumList(peptide))\n",
        "print(*result, sep = \" \")\n",
        "\n"
      ],
      "execution_count": null,
      "outputs": [
        {
          "output_type": "stream",
          "text": [
            "Enter the amino acid string Peptide: LEQN\n",
            "0 113 114 128 129 227 242 242 257 355 356 370 371 484\n"
          ],
          "name": "stdout"
        }
      ]
    },
    {
      "cell_type": "markdown",
      "metadata": {
        "id": "I8rmCkOdqTC1"
      },
      "source": [
        "ba3f -> Find an Eulerian Cycle in a Graph"
      ]
    },
    {
      "cell_type": "code",
      "metadata": {
        "colab": {
          "base_uri": "https://localhost:8080/"
        },
        "id": "68QRgBriqXdX",
        "outputId": "ef326063-1879-4f28-8c49-81cb57466d9a"
      },
      "source": [
        "import sys\n",
        "from re import split\n",
        "from random import choice\n",
        "\n",
        "\n",
        "def parse_adj_list(adj_list_text):\n",
        "    adj_list = {}\n",
        "    for elem in adj_list_text:\n",
        "        temp = split(' -> ', elem)\n",
        "        adj_list[temp[0]] = temp[1].split(',')\n",
        "    return adj_list\n",
        "\n",
        "\n",
        "def remove_edge(adj_list, from_node, to_node):\n",
        "    adj_list[from_node].remove(to_node)\n",
        "    if not adj_list[from_node]:\n",
        "        del adj_list[from_node]\n",
        "    return adj_list\n",
        "\n",
        "\n",
        "def Eulerian_cycle(adj_list):\n",
        "    # form a cycle Cycle by randomly walking in Graph\n",
        "    start_node, edges = choice(list(adj_list.items()))\n",
        "    target_node = choice(edges)\n",
        "    adj_list = remove_edge(adj_list, start_node, target_node)\n",
        "\n",
        "    Cycle = [start_node, target_node]\n",
        "    current_node = target_node\n",
        "    while current_node != start_node:\n",
        "        edges = adj_list[current_node]\n",
        "        target_node = choice(edges)\n",
        "        adj_list = remove_edge(adj_list, current_node, target_node)\n",
        "        current_node = target_node\n",
        "        Cycle.append(current_node)\n",
        "\n",
        "    while adj_list:\n",
        "        potential_starts = [(idx, node) for idx, node in enumerate(Cycle) if node in adj_list]\n",
        "        idx, new_start = choice(potential_starts)\n",
        "\n",
        "        # form Cycle’ by traversing Cycle (starting at newStart) and then randomly walking\n",
        "        new_cycle = Cycle[idx:] + Cycle[1:idx + 1]\n",
        "\n",
        "        target_node = choice(adj_list[new_start])\n",
        "        adj_list = remove_edge(adj_list, new_start, target_node)\n",
        "        current_node = target_node\n",
        "        new_cycle.append(current_node)\n",
        "        while current_node != new_start:\n",
        "            edges = adj_list[current_node]\n",
        "            target_node = choice(edges)\n",
        "            adj_list = remove_edge(adj_list, current_node, target_node)\n",
        "            current_node = target_node\n",
        "            new_cycle.append(current_node)\n",
        "        Cycle = new_cycle\n",
        "    return Cycle\n",
        "\n",
        "with open ('/content/rosalind_ba3f.txt', 'r') as f:\n",
        "    inputLines = [line.strip() for line in f.readlines()]\n",
        "\n",
        "adjList = parse_adj_list(inputLines)\n",
        "print(\"->\".join(Eulerian_cycle(adjList)))\n"
      ],
      "execution_count": 6,
      "outputs": [
        {
          "output_type": "stream",
          "text": [
            "6->5->4->2->1->0->3->2->6->8->7->9->6\n"
          ],
          "name": "stdout"
        }
      ]
    },
    {
      "cell_type": "markdown",
      "metadata": {
        "id": "ujHJb8_Vm814"
      },
      "source": [
        "ba3h -> Reconstruct a String from its k-mer Composition "
      ]
    },
    {
      "cell_type": "code",
      "metadata": {
        "colab": {
          "base_uri": "https://localhost:8080/"
        },
        "id": "2WrvNQ9OnAOQ",
        "outputId": "d30c6ead-aaeb-4428-939b-fad0886fd689"
      },
      "source": [
        "def SuffixofString(string):\n",
        "    return string[1:len(string)]\n",
        "\n",
        "def PrefixofString(string):\n",
        "    return string[0:len(string)-1]\n",
        "\n",
        "def ReconstructFromKmer(k, genomelist):\n",
        "  suffixarray = []\n",
        "  prefixarray = []\n",
        "  start_dict = {}\n",
        "  for genome in genomelist:\n",
        "    suffixarray.append(SuffixofString(genome))\n",
        "  for genome in genomelist:\n",
        "    prefixarray.append(PrefixofString(genome))\n",
        "    start_dict[genome[0:k-1]] = genome[k-1:k]  #for storing the last position\n",
        "    #for finding the start position\n",
        "  for prefix in prefixarray:\n",
        "    #if any prefix is not present in any suffix\n",
        "      if prefix not in suffixarray:\n",
        "        start = prefix;\n",
        "        break;\n",
        "  startgenome = start+start_dict[start]\n",
        "  for suffix in suffixarray:\n",
        "    #if any suffix is not present in any prefix\n",
        "      if suffix not in prefixarray:\n",
        "        end = suffix;\n",
        "        break;\n",
        "  path = startgenome\n",
        "  while True:\n",
        "    portion = path[len(path)-k+1:len(path)] #initially GGCT it is GCT #(2)portion path[5-4+1] = [2:5] = TTT and so on\n",
        "    #initially GCT is not end CCA\n",
        "    if portion == end:\n",
        "      break\n",
        "    else:\n",
        "      #GCT dict value T path becomes GCTTT. go to 2\n",
        "      path+=start_dict[portion]\n",
        "  return path\n",
        "\n",
        "k = int(input())\n",
        "with open('/content/rosalind_ba3h.txt', 'r') as f:\n",
        "        genomelist = [line.strip() for line in f.readlines()]\n",
        "path = ReconstructFromKmer(k, genomelist)\n",
        "print(path)\n"
      ],
      "execution_count": null,
      "outputs": [
        {
          "output_type": "stream",
          "text": [
            "4\n",
            "GGCTTACCA\n"
          ],
          "name": "stdout"
        }
      ]
    }
  ]
}