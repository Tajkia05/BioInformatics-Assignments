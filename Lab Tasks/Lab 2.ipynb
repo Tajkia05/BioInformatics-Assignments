{
 "cells": [
  {
   "cell_type": "markdown",
   "metadata": {
    "scrolled": true
   },
   "source": [
    "# ba1c -> Find the Reverse Complement of a String"
   ]
  },
  {
   "cell_type": "code",
   "execution_count": 9,
   "metadata": {},
   "outputs": [
    {
     "name": "stdout",
     "output_type": "stream",
     "text": [
      "Input the text: AAAACCCGGT\n",
      "The reverse compliment is: \n",
      "ACCGGGTTTT\n"
     ]
    }
   ],
   "source": [
    "def reverseCompliment(text):\n",
    "    result = \"\"\n",
    "    for i in range(len(text)):\n",
    "        if(text[i] == 'A'):\n",
    "            result+='T'\n",
    "        elif(text[i] == 'T'):\n",
    "            result+='A'\n",
    "        elif(text[i] == 'G'):\n",
    "            result+='C'\n",
    "        elif(text[i] == 'C'):\n",
    "            result+='G'\n",
    "    return result[::-1] #texx[::-1] used for reversing\n",
    "    \n",
    "    \n",
    "text = input(\"Input the text: \")\n",
    "\n",
    "# making all the text lower\n",
    "text_m = text.upper()\n",
    "print(\"The reverse compliment is: \")\n",
    "print(reverseCompliment(text_m))"
   ]
  },
  {
   "cell_type": "markdown",
   "metadata": {},
   "source": [
    "# ba1g -> Compute the Hamming Distance Between Two Strings"
   ]
  },
  {
   "cell_type": "code",
   "execution_count": 14,
   "metadata": {},
   "outputs": [
    {
     "name": "stdout",
     "output_type": "stream",
     "text": [
      "Input the first sequence: GGGCCGTTGGT\n",
      "Input the second sequence: GGACCGTTGAC\n",
      "3\n"
     ]
    }
   ],
   "source": [
    "def computeHamDis(text1, text2):\n",
    "    count=0;\n",
    "    for i in range(len(text1)):\n",
    "        if(text1[i] != text2[i]):\n",
    "            count+=1\n",
    "    return count\n",
    "    \n",
    "seq1 = input(\"Input the first sequence: \")\n",
    "seq2 = input(\"Input the second sequence: \")\n",
    "\n",
    "print(computeHamDis(seq1, seq2))\n",
    "    "
   ]
  },
  {
   "cell_type": "markdown",
   "metadata": {},
   "source": [
    "# ba1h -> Find All Approximate Occurrences of a Pattern in a String"
   ]
  },
  {
   "cell_type": "code",
   "execution_count": 11,
   "metadata": {},
   "outputs": [
    {
     "name": "stdout",
     "output_type": "stream",
     "text": [
      "Input the pattern: ATTCTGGA\n",
      "Input the sequence: CGCCCGAATCCAGAACGCATTCCCATATTTCGGGACCACTGGCCTCCACGGTACGGACGTCAATCAAATGCCTAGCGGCTTGTGGTTTCTCCTACGCTCC\n",
      "Enter the integer: 3\n",
      "6 7 26 27 78 \n"
     ]
    }
   ],
   "source": [
    "#All starting positions where Pattern appears as a substring of Text with at most d mismatches.\n",
    "#calculate hamming distance\n",
    "def hammingDistance(text1, text2):\n",
    "    count=0;\n",
    "    for i in range(len(text1)):\n",
    "        if(text1[i] != text2[i]):\n",
    "            count+=1\n",
    "    return count\n",
    "\n",
    "def findOccur(pattern, text, k):\n",
    "    #decalre empty string\n",
    "    ans = ''\n",
    "    for i in range(len(text)-len(pattern)+1):\n",
    "        if hammingDistance(pattern, text[i:i+len(pattern)]) <= k:\n",
    "            #converting integer i into string because ans is an empty string\n",
    "            ans+=str(i)+' '\n",
    "    return ans\n",
    "\n",
    "pat = input(\"Input the pattern: \")\n",
    "seq = input(\"Input the sequence: \") \n",
    "pat = pat.upper()\n",
    "seq = seq.upper()\n",
    "k = int(input(\"Enter the integer: \"))\n",
    "print(findOccur(pat, seq, k))"
   ]
  },
  {
   "cell_type": "markdown",
   "metadata": {},
   "source": [
    "# ba1i -> Find the Most Frequent Words with Mismatches in a String"
   ]
  },
  {
   "cell_type": "code",
   "execution_count": 4,
   "metadata": {},
   "outputs": [
    {
     "name": "stdout",
     "output_type": "stream",
     "text": [
      "Enter the sequence: ACGTTGCATGTCGCATGATGCATGAGAGCT\n",
      "Enter the length of pattern: 4\n",
      "Enter the value d: 1\n",
      "ATGT ATGC GATG\n"
     ]
    }
   ],
   "source": [
    "#generate all possible kmers\n",
    "def generateAllKmers(k):\n",
    "    base_neucleotides = [\"A\", \"T\", \"G\", \"C\"]\n",
    "    last_base = base_neucleotides #copying base neucleotides in last_base\n",
    "    current_array = [] #declare an emty list\n",
    "    for i in range(k-1): #for 2 length kmer the loop will run for i=0 and i=1\n",
    "        for j in base_neucleotides: #A, T, G, C\n",
    "            for k in last_base: #copy of A, T, G, C\n",
    "                current_array.append(j+k) \n",
    "        last_base = current_array #update last_base\n",
    "        current_array = [] #empty current array\n",
    "    return last_base\n",
    "#generateAllKmers(3)\n",
    "\n",
    "def hammingDistance(text1, text2):\n",
    "    count=0;\n",
    "    for i in range(len(text1)):\n",
    "        if(text1[i] != text2[i]):\n",
    "            count+=1\n",
    "    return count\n",
    "\n",
    "def textKmer(text, k):\n",
    "    my_arr = []\n",
    "    for i in range(len(text)-k+1):\n",
    "        my_arr.append(text[i:i+k])\n",
    "    return my_arr\n",
    "def mismatchFreq(text, k, d):\n",
    "    my_dict = {}\n",
    "    all_Kmer = generateAllKmers(k) #generate all possible k mers\n",
    "    text_Kmer = textKmer(text, k)  #generate all possible kmers from given text\n",
    "    for i in range(len(all_Kmer)):\n",
    "        for j in range(len(text_Kmer)):\n",
    "            if(hammingDistance(all_Kmer[i], text_Kmer[j]) <= d): #for each kmer generated from all possible kmers check hamming distance with main text kmers\n",
    "                if all_Kmer[i] in my_dict:  #if hamming diistance is less than d append to dictionary\n",
    "                    my_dict[all_Kmer[i]] += 1\n",
    "                else:\n",
    "                    my_dict[all_Kmer[i]] = 1\n",
    "    max_value = max(my_dict.values())  # maximum value\n",
    "    max_keys = [key for key, val in my_dict.items() if val == max_value]   #getting all keys with mas value\n",
    "    print(*max_keys, sep = \" \")  #prints list without comma and bracket\n",
    "        \n",
    "text = input(\"Enter the sequence: \")\n",
    "text = text.upper()\n",
    "k = int(input(\"Enter the length of pattern: \"))\n",
    "d = int(input(\"Enter the value d: \"))\n",
    "\n",
    "#textKmer(text, k)\n",
    "mismatchFreq(text, k, d)\n",
    "    "
   ]
  },
  {
   "cell_type": "markdown",
   "metadata": {},
   "source": [
    "# ba1j -> Find Frequent Words with Mismatches and Reverse Complements"
   ]
  },
  {
   "cell_type": "code",
   "execution_count": 24,
   "metadata": {},
   "outputs": [
    {
     "name": "stdout",
     "output_type": "stream",
     "text": [
      "Enter the sequence: ACGTTGCATGTCGCATGATGCATGAGAGCT\n",
      "Enter the length of pattern: 4\n",
      "Enter the value d: 1\n",
      "ATGT ACAT\n"
     ]
    }
   ],
   "source": [
    "#generate all possible kmers\n",
    "def generateAllKmers(k):\n",
    "    base_neucleotides = [\"A\", \"T\", \"G\", \"C\"]\n",
    "    last_base = base_neucleotides #copying base neucleotides in last_base\n",
    "    current_array = [] #declare an emty list\n",
    "    for i in range(k-1): #for 2 length kmer the loop will run for i=0 and i=1\n",
    "        for j in base_neucleotides: #A, T, G, C\n",
    "            for k in last_base: #copy of A, T, G, C\n",
    "                current_array.append(j+k) \n",
    "        last_base = current_array #update last_base\n",
    "        current_array = [] #empty current array\n",
    "    return last_base\n",
    "#generateAllKmers(3)\n",
    "\n",
    "def reverseCompliment(text):\n",
    "    result = \"\"\n",
    "    for i in range(len(text)):\n",
    "        if(text[i] == 'A'):\n",
    "            result+='T'\n",
    "        elif(text[i] == 'T'):\n",
    "            result+='A'\n",
    "        elif(text[i] == 'G'):\n",
    "            result+='C'\n",
    "        elif(text[i] == 'C'):\n",
    "            result+='G'\n",
    "    return result[::-1]\n",
    "def hammingDistance(text1, text2):\n",
    "    count=0;\n",
    "    for i in range(len(text1)):\n",
    "        if(text1[i] != text2[i]):\n",
    "            count+=1\n",
    "    return count\n",
    "\n",
    "def textKmer(text, k):\n",
    "    my_arr = []\n",
    "    for i in range(len(text)-k+1):\n",
    "        my_arr.append(text[i:i+k])\n",
    "    return my_arr\n",
    "def mismatchFreq(text, k, d):\n",
    "    my_dict = {}\n",
    "    all_Kmer = generateAllKmers(k) #generate all possible k mers\n",
    "    text_Kmer = textKmer(text, k)  #generate all possible kmers from given text\n",
    "    for i in range(len(all_Kmer)):\n",
    "        for j in range(len(text_Kmer)):\n",
    "            if hammingDistance(all_Kmer[i], text_Kmer[j]) <= d: #for each kmer generated from all possible kmers check hamming distance with main text kmers\n",
    "                    if all_Kmer[i] in my_dict:  #if hamming diistance is less than d append to dictionary\n",
    "                        my_dict[all_Kmer[i]] += 1\n",
    "                    else:\n",
    "                        my_dict[all_Kmer[i]] = 1\n",
    "    for i in range(len(all_Kmer)):\n",
    "        for j in range(len(text_Kmer)):\n",
    "            if hammingDistance(reverseCompliment(all_Kmer[i]), text_Kmer[j]) <= d: #for reverse compliment each kmer generated from all possible kmers check hamming distance with main text kmers\n",
    "                    if all_Kmer[i] in my_dict:  #if hamming distance is less than d append to dictionary with the all generated kmer value\n",
    "                        my_dict[all_Kmer[i]] += 1\n",
    "                    else:\n",
    "                        my_dict[all_Kmer[i]] = 1\n",
    "    max_value = max(my_dict.values())  # maximum value\n",
    "    max_keys = [key for key, val in my_dict.items() if val == max_value]   #getting all keys with mas value\n",
    "    print(*max_keys, sep = \" \")  #prints list without comma and bracket\n",
    "        \n",
    "text = input(\"Enter the sequence: \")\n",
    "text = text.upper()\n",
    "k = int(input(\"Enter the length of pattern: \"))\n",
    "d = int(input(\"Enter the value d: \"))\n",
    "\n",
    "#textKmer(text, k)\n",
    "mismatchFreq(text, k, d)\n",
    "    "
   ]
  },
  {
   "cell_type": "markdown",
   "metadata": {},
   "source": [
    "# ba1L -> Implement PatternToNumber"
   ]
  },
  {
   "cell_type": "code",
   "execution_count": 1,
   "metadata": {
    "scrolled": true
   },
   "outputs": [
    {
     "name": "stdout",
     "output_type": "stream",
     "text": [
      "Enter the pattern: AGT\n"
     ]
    },
    {
     "data": {
      "text/plain": [
       "11"
      ]
     },
     "execution_count": 1,
     "metadata": {},
     "output_type": "execute_result"
    }
   ],
   "source": [
    "neucleotide_base = {'A':0, 'C':1, 'G':2, 'T':3}\n",
    "def patternToNumber(pattern):\n",
    "    if pattern == \"\":\n",
    "        return 0\n",
    "    symbol = pattern[len(pattern)-1]\n",
    "    #print(neucleotide_base[symbol])\n",
    "    prefix = pattern[0:len(pattern)-1]\n",
    "    \n",
    "    return 4*patternToNumber(prefix)+neucleotide_base[symbol] \n",
    "#AGT-> T+4*prefix(AG)\n",
    "#3+4*(G=2)+4*prefix(A)\n",
    "#3+8+0 = 11\n",
    "pat = input(\"Enter the pattern: \")\n",
    "pat = pat.upper()\n",
    "patternToNumber(pat)"
   ]
  },
  {
   "cell_type": "markdown",
   "metadata": {},
   "source": [
    "# ba1m -> Implement Number To Pattern"
   ]
  },
  {
   "cell_type": "code",
   "execution_count": 10,
   "metadata": {},
   "outputs": [
    {
     "name": "stdout",
     "output_type": "stream",
     "text": [
      "Enter the index: 45\n",
      "Enter k: 4\n",
      "AGTC\n"
     ]
    }
   ],
   "source": [
    "neucleotide_base = {0:'A', 1:'C', 2:'G', 3:'T'}\n",
    "def numberToPattern(index, k):\n",
    "    if(k == 1): #base case\n",
    "        return neucleotide_base[index]\n",
    "    pref_index = int(index/4)\n",
    "    rem = int(index%4)\n",
    "    symbol = neucleotide_base[rem] #remainder is the single symbol\n",
    "    pref_pattern = numberToPattern(pref_index, k-1) #recursive call\n",
    "    \n",
    "    return pref_pattern+symbol\n",
    "\n",
    "index = int(input(\"Enter the index: \"))\n",
    "k = int(input(\"Enter k: \"))\n",
    "print(numberToPattern(index, k))"
   ]
  }
 ],
 "metadata": {
  "kernelspec": {
   "display_name": "Python 3",
   "language": "python",
   "name": "python3"
  },
  "language_info": {
   "codemirror_mode": {
    "name": "ipython",
    "version": 3
   },
   "file_extension": ".py",
   "mimetype": "text/x-python",
   "name": "python",
   "nbconvert_exporter": "python",
   "pygments_lexer": "ipython3",
   "version": "3.8.3"
  }
 },
 "nbformat": 4,
 "nbformat_minor": 4
}
