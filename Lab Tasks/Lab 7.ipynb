{
  "nbformat": 4,
  "nbformat_minor": 0,
  "metadata": {
    "colab": {
      "name": "Lab 7.ipynb",
      "provenance": [],
      "collapsed_sections": []
    },
    "kernelspec": {
      "name": "python3",
      "display_name": "Python 3"
    },
    "language_info": {
      "name": "python"
    }
  },
  "cells": [
    {
      "cell_type": "markdown",
      "metadata": {
        "id": "12ynlf8XP9_6"
      },
      "source": [
        "ba9i -> Construct the Burrows-Wheeler Transform of a String"
      ]
    },
    {
      "cell_type": "code",
      "metadata": {
        "colab": {
          "base_uri": "https://localhost:8080/"
        },
        "id": "ZcYDlkgvEuJK",
        "outputId": "76ba39e2-11ff-445a-cc3b-4274369f8579"
      },
      "source": [
        "def BWT(text):\n",
        "  length = len(text)\n",
        "  sequence = text+text\n",
        "  #print(sequence)\n",
        "  Rotations = []\n",
        "  for i in range(len(text)):\n",
        "        Rotations.append(sequence[i:i+length])\n",
        "        #print(Rotations)\n",
        "  Rotations.sort()\n",
        "  #print(Rotations)\n",
        "\n",
        "  result = \"\"\n",
        "  for eachrotation in Rotations:\n",
        "    result += eachrotation[-1]\n",
        "  return result\n",
        "\n",
        "with open('/content/input.txt', 'r') as f:\n",
        "  text = f.readline().strip()\n",
        "print(BWT(text))"
      ],
      "execution_count": null,
      "outputs": [
        {
          "output_type": "stream",
          "text": [
            "AACCGAGAACCGAACCATAACCGACCTGCCAACACCATCTATCTGGAAAGGTGTCTGCCAGCTTATACACGTGCCATGGGACACCCTGCTATGTAAGAAATTGCGAATCGGACCATGCTGTTTATCAATGTGTCTATGTCGGAAGCACGGATGAAAGCTTTAACTTACGTACGTCCCTCTAGAGACGAGTTTGCGTGAACCTGAGTTGGCGAGAGACAAAGAGAAAAAACTCGTATGCTGCATATCGCAACGGACCTCGTCTAAGTACCGGGGGTTCTCAGGGTCAGATGGACCGAGGCTCAGAAAGCAAGTTCAGCCACCACACCTATAGTCGGTACTAGCAGAAATCATAATCGGGGCTGACATGACTGGCATAAGATCGACCGACATTTGCGACTTCTGACGGAATGGCGCAAGGTTGGTCGTCGTGAAACCACCTCTTTTGGGAAATTGAGCGAAGCCATGAGGCGTAGCGCTAGGACGGCGCACCCTAACGGTTGAGAGTCGATCACTCGTCACAGGATCTGTCAAAGGGCCTTATTTCGTACATCGAGGCTCTCGGGTGCACCCTCCGACCGAATCGTGAGATGCCTGGCTCATAACAGCCAGTATTGAACAAAGTGACATGGCAGGCTAACTAGATGGAACGATGATACAAACTAGGGACTTG$AACGCAAATCTATTAGTTCTGACGAAGAGTACCAGGGCGACGAGTTCGAAATTGGCCACCCATCAGCGACGACGACGGGACCGAAAGCCCAGTGCATGTATAGCCAATTGCATTCTAGCGCTTATTGTATACATCCGCCGCTCTGGAGCAAATTTTACTGGACGGCGCGGCATATAGCCCGCCATTTTGCCACAATTCTAAGACAGCTGTGATGTGTAAATCATTTATGCGCGAGAGGGCTACATACTTGCAACAACAACGTGTGCATCCCTACCTGGGGCCCTCATGTCCAGGTATTTCCG\n"
          ],
          "name": "stdout"
        }
      ]
    },
    {
      "cell_type": "markdown",
      "metadata": {
        "id": "382dqqfDeCuh"
      },
      "source": [
        "ba9j -> Reconstruct a String from its Burrows-Wheeler Transform"
      ]
    },
    {
      "cell_type": "code",
      "metadata": {
        "colab": {
          "base_uri": "https://localhost:8080/"
        },
        "id": "BsowNZ6yeGpQ",
        "outputId": "1a39dd28-9d37-4f6b-f6f1-4f71d85e0103"
      },
      "source": [
        "def ReconstructString(bwt):\n",
        "  matrix = [\"\"] * len(bwt) #make an empty list\n",
        "  for i in range(len(bwt)):\n",
        "    #print(\"bwt: \", bwt[i])\n",
        "    matrix = [bwt[i] + matrix[i] for i in range(len(bwt))] #adds a new word at starting to the result, matrix[i] will be in range of len(bwt)\n",
        "    #print(\"matrix: \",matrix)\n",
        "    matrix = sorted(matrix)\n",
        "    #print(\"sorted: \", matrix)\n",
        "#print(matrix)\n",
        "  for string in matrix:\n",
        "    if string.endswith(\"$\"):\n",
        "      print(string)\n",
        "\n",
        "with open('/content/stringfromBWT.txt', 'r') as f:\n",
        "  bwt = f.readline().strip()\n",
        "ReconstructString(bwt)\n",
        "\n",
        "\n"
      ],
      "execution_count": null,
      "outputs": [
        {
          "output_type": "stream",
          "text": [
            "TACATCACGT$\n"
          ],
          "name": "stdout"
        }
      ]
    },
    {
      "cell_type": "markdown",
      "metadata": {
        "id": "COjpsW9tE3V2"
      },
      "source": [
        "ba9k -> Generate the Last-to-First Mapping of a String"
      ]
    },
    {
      "cell_type": "code",
      "metadata": {
        "colab": {
          "base_uri": "https://localhost:8080/"
        },
        "id": "NVuqYE11E5fQ",
        "outputId": "1d9fb0f2-a12c-46b2-c915-a0103dfc162a"
      },
      "source": [
        "def LastToFirstMapping(lastcol, i):\n",
        "  count = {}\n",
        "  lastcollist = []\n",
        "  for ch in lastcol:\n",
        "    if ch not in count:\n",
        "      count[ch] = 1\n",
        "    else:\n",
        "      count[ch] += 1\n",
        "    lastcollist.append(ch+str(count[ch])) #saving the values with occurence eg, AACC -> A1 A2 C1 C2 like this\n",
        "  #print(lastcollist)\n",
        "  \n",
        "\n",
        "  firstcollist = sorted(lastcollist,key=lambda x: x[0])  #sorting the list and getting the first column\n",
        "  \n",
        "\n",
        "  for seq in range(len(firstcollist)):\n",
        "    if lastcollist[i] == firstcollist[seq]:   #matching the indec charahcheters\n",
        "      #print(firstcollist[seq])\n",
        "      print(seq)\n",
        "\n",
        "last_column = input()\n",
        "index = int(input())\n",
        "LastToFirstMapping(last_column, index)\n"
      ],
      "execution_count": 33,
      "outputs": [
        {
          "output_type": "stream",
          "text": [
            "T$GACCA\n",
            "3\n",
            "1\n"
          ],
          "name": "stdout"
        }
      ]
    },
    {
      "cell_type": "code",
      "metadata": {
        "id": "sTiCj815UCxQ"
      },
      "source": [
        ""
      ],
      "execution_count": null,
      "outputs": []
    }
  ]
}