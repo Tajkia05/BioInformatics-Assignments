{
  "nbformat": 4,
  "nbformat_minor": 0,
  "metadata": {
    "colab": {
      "name": "Lab_3.ipynb",
      "provenance": [],
      "collapsed_sections": []
    },
    "kernelspec": {
      "name": "python3",
      "display_name": "Python 3"
    },
    "language_info": {
      "name": "python"
    }
  },
  "cells": [
    {
      "cell_type": "markdown",
      "metadata": {
        "id": "9-oO1vdIgAyG"
      },
      "source": [
        "ba1f -> Find a Position in a Genome Minimizing the Skew"
      ]
    },
    {
      "cell_type": "code",
      "metadata": {
        "id": "Dw18mWKi-Q8T",
        "colab": {
          "base_uri": "https://localhost:8080/"
        },
        "outputId": "4b4ed6c5-b023-474a-dbf9-b1cae9bebda9"
      },
      "source": [
        "def minSkew(genome):\n",
        "  count = 0;\n",
        "  arr = []\n",
        "  arr.append(count) #inital value 0\n",
        "  for i in range(len(genome)):\n",
        "    if genome[i] == 'T' or genome[i] == 'A':\n",
        "      arr.append(count)\n",
        "      continue\n",
        "    elif genome[i] == 'G':\n",
        "          count+=1\n",
        "    elif genome[i] == 'C':\n",
        "          count-=1\n",
        "    arr.append(count)\n",
        "    #print(arr)\n",
        "  min_val = min(arr)\n",
        "  \n",
        "  for i in range(len(arr)):\n",
        "    if arr[i] == min_val:\n",
        "      print(i, end = \" \") # printing all the index of the minimum value\n",
        "\n",
        "genome = input(\"Enter the genome: \")\n",
        "genome = genome.upper()\n",
        "minSkew(genome)"
      ],
      "execution_count": 1,
      "outputs": [
        {
          "output_type": "stream",
          "text": [
            "Enter the genome: CCTATCGGTGGATTAGCATGTCCCTGTACGTTTCGCCGCGAACTAGTTCACACGGCTTGATGGCAAATGGTTTTTCCGGCGACCGTAATCGTCCACCGAG\n",
            "53 97 "
          ],
          "name": "stdout"
        }
      ]
    },
    {
      "cell_type": "markdown",
      "metadata": {
        "id": "1D_Ov_e4gTyK"
      },
      "source": [
        "ba1e -> Find Patterns Forming Clumps in a String"
      ]
    },
    {
      "cell_type": "code",
      "metadata": {
        "id": "hhlHncTdIN_V",
        "colab": {
          "base_uri": "https://localhost:8080/"
        },
        "outputId": "1c24232d-d049-4005-fbe9-34366d86060f"
      },
      "source": [
        "def generateKmer(text, k):\n",
        "  kmers = set()\n",
        "  for i in range(len(text)-k+1):\n",
        "    kmers.add(text[i:i+k])\n",
        "  return kmers\n",
        "\n",
        "def freqCountUptoT(string, substr, t):\n",
        "   count = 0\n",
        "   pos = 0\n",
        "   while(True):\n",
        "       pos = string.find(substr , pos) #string.find(value, start)\n",
        "       if count >= t:\n",
        "         return True\n",
        "       elif pos > -1:\n",
        "           count = count + 1\n",
        "           pos += 1\n",
        "       else:\n",
        "           break\n",
        "   return False\n",
        "\n",
        "\n",
        "def LtClump(genome, k, l, t):\n",
        "  ltclump = set() \n",
        "  for i in range(len(genome)-l+1):\n",
        "    lkmers = generateKmer(genome[i:i+l], k)\n",
        "    for kmer in lkmers:\n",
        "      if(freqCountUptoT(genome[i:i+l], kmer, t)):\n",
        "        ltclump.add(kmer)\n",
        "  print(*ltclump, sep=\" \")\n",
        "\n",
        " \n",
        "genome = input(\"Enter the genome: \")\n",
        "k = int(input(\"Enter the kmer length: \"))\n",
        "l = int(input(\"Enter L: \"))\n",
        "t = int(input(\"Enter t: \"))\n",
        "LtClump(genome, k, l, t)"
      ],
      "execution_count": 2,
      "outputs": [
        {
          "output_type": "stream",
          "text": [
            "Enter the genome: CGGACTCGACAGATGTGAAGAAATGTGAAGACTGAGTGAAGAGAAGAGGAAACACGACACGACATTGCGACATAATGTACGAATGTAATGTGCCTATGGC\n",
            "Enter the kmer length: 5\n",
            "Enter L: 75\n",
            "Enter t: 4\n",
            "GAAGA CGACA AATGT\n"
          ],
          "name": "stdout"
        }
      ]
    },
    {
      "cell_type": "markdown",
      "metadata": {
        "id": "-EP7YtrrgjHc"
      },
      "source": [
        "ba2b -> Find a Median String"
      ]
    },
    {
      "cell_type": "code",
      "metadata": {
        "id": "_R64Wro2gSZF",
        "colab": {
          "base_uri": "https://localhost:8080/"
        },
        "outputId": "7df0998e-66d5-43ed-ef4d-9822c8e3ec5a"
      },
      "source": [
        "neucleotide_base = {0:'A', 1:'C', 2:'G', 3:'T'}\n",
        "def NumberToPattern(index, k):\n",
        "    if(k == 1): #base case\n",
        "        return neucleotide_base[index]\n",
        "    pref_index = int(index/4)\n",
        "    rem = int(index%4)\n",
        "    symbol = neucleotide_base[rem] #remainder is the single symbol\n",
        "    pref_pattern = NumberToPattern(pref_index, k-1) #recursive call\n",
        "    \n",
        "    return pref_pattern+symbol\n",
        "\n",
        "def generateTextKmer(text, k):\n",
        "  kmers = set()\n",
        "  for i in range(len(text)-k+1):\n",
        "    kmers.add(text[i:i+k])\n",
        "  return kmers\n",
        "\n",
        "def HammingDistance(text1, text2):\n",
        "    count=0;\n",
        "    for i in range(len(text1)):\n",
        "        if(text1[i] != text2[i]):\n",
        "            count+=1\n",
        "    return count\n",
        "\n",
        "def DistanceBetweenPatternsandGenome(genomelist, pattern):\n",
        "  k = len(pattern)\n",
        "  distance = 0\n",
        "  for genome in genomelist:\n",
        "    hammingDistance = 9999\n",
        "    genome_kmers = generateTextKmer(genome, k)\n",
        "    for kmer in  genome_kmers:\n",
        "      if hammingDistance > HammingDistance(pattern, kmer):\n",
        "        hammingDistance =  HammingDistance(pattern, kmer)\n",
        "    distance = distance+hammingDistance\n",
        "  #print(distance)  \n",
        "  return distance\n",
        "\n",
        "def MedianString(genomelist, k):\n",
        "  distance = 9999;\n",
        "  limit = pow(4,k)\n",
        "  for i in range(limit-1):\n",
        "    pattern = NumberToPattern(i,k)\n",
        "    if distance >= DistanceBetweenPatternsandGenome(genomelist, pattern):\n",
        "      #print(\"pattern, Distance\")\n",
        "      #print(pattern, distance)\n",
        "      distance = DistanceBetweenPatternsandGenome(genomelist, pattern)\n",
        "      median = pattern\n",
        "  return median\n",
        "\n",
        "k = int(input(\"Enter the length of kmer: \"))\n",
        "genomelist = []\n",
        "while True:\n",
        "  line = input().upper()\n",
        "  if line:\n",
        "    genomelist.append(line)\n",
        "  else:\n",
        "    break\n",
        "#print(genomelist)\n",
        "ans = MedianString(genomelist, k)\n",
        "print(ans)\n",
        "\n"
      ],
      "execution_count": 5,
      "outputs": [
        {
          "output_type": "stream",
          "text": [
            "Enter the length of kmer: 3\n",
            "AAATTGACGCAT\n",
            "GACGACCACGTT\n",
            "CGTCAGCGCCTG\n",
            "GCTGAGCACCGG\n",
            "AGTACGGGACAG\n",
            "\n",
            "GAC\n"
          ],
          "name": "stdout"
        }
      ]
    },
    {
      "cell_type": "markdown",
      "metadata": {
        "id": "DydLEeFhhQtN"
      },
      "source": [
        "ba2c -> Find a Profile-most Probable k-mer in a String"
      ]
    },
    {
      "cell_type": "code",
      "metadata": {
        "id": "bNJi61qBt-10",
        "colab": {
          "base_uri": "https://localhost:8080/",
          "height": 103
        },
        "outputId": "6b9da243-ec8f-4873-cbe5-4ca51ee13f0a"
      },
      "source": [
        "import numpy as np\n",
        "\n",
        "def generateTextKmer(text, k):\n",
        "  kmers = set()\n",
        "  for i in range(len(text)-k+1):\n",
        "    kmers.add(text[i:i+k])\n",
        "  return kmers\n",
        "\n",
        "def ProfileMostProbableKmer(genome, k, profile_matrix):\n",
        "  kmers = generateTextKmer(genome, k)\n",
        "  maxProb = -9999\n",
        "  probKmer = \"\"\n",
        "  for kmer in kmers:\n",
        "    prob = 1\n",
        "    for i in range(len(kmer)):\n",
        "      if kmer[i] == 'A':\n",
        "        prob = prob*profile_matrix[0][i]\n",
        "      elif kmer[i] == 'C':\n",
        "        prob = prob*profile_matrix[1][i]\n",
        "      elif kmer[i] == 'G':\n",
        "        prob = prob*profile_matrix[2][i]\n",
        "      elif kmer[i] == 'T':\n",
        "        prob = prob*profile_matrix[3][i]\n",
        "    if maxProb < prob:\n",
        "      maxProb = prob\n",
        "      probKmer = kmer\n",
        "\n",
        "  return probKmer\n",
        "\n",
        "\n",
        "genome = input(\"Enter the genome: \")\n",
        "k = int(input(\"Enter pattern length: \"))\n",
        "print(\"Enter the entries in a single line separated by space: \")\n",
        "arr_entry1 = list(map(float, input().strip().split()))\n",
        "profile_matrix =  np.array(arr_entry1).reshape(4,k)\n",
        "ProfileMostProbableKmer(genome, k, profile_matrix)"
      ],
      "execution_count": 6,
      "outputs": [
        {
          "output_type": "stream",
          "text": [
            "Enter the genome: ACCTGTTTATTGCCTAAGTTCCGAACAAACCCAATATAGCCCGAGGGCCT\n",
            "Enter pattern length: 5\n",
            "Enter the entries in a single line separated by space: \n",
            "0.2 0.2 0.3 0.2 0.3 0.4 0.3 0.1 0.5 0.1 0.3 0.3 0.5 0.2 0.4 0.1 0.2 0.1 0.1 0.2\n"
          ],
          "name": "stdout"
        },
        {
          "output_type": "execute_result",
          "data": {
            "application/vnd.google.colaboratory.intrinsic+json": {
              "type": "string"
            },
            "text/plain": [
              "'CCGAG'"
            ]
          },
          "metadata": {
            "tags": []
          },
          "execution_count": 6
        }
      ]
    },
    {
      "cell_type": "markdown",
      "metadata": {
        "id": "qom7EmYZhd9X"
      },
      "source": [
        "ba2d -> Implement GreedyMotifSearch"
      ]
    },
    {
      "cell_type": "code",
      "metadata": {
        "id": "BD54OR7E4BTH",
        "colab": {
          "base_uri": "https://localhost:8080/"
        },
        "outputId": "0b8f279e-2794-434c-a0b5-c6eb6599ca50"
      },
      "source": [
        "import numpy as np\n",
        "\n",
        "def BestMotifs(genomes, k,t):\n",
        "  bestmotifs = []\n",
        "  for genome in genomes:\n",
        "    bestmotifs.append(genome[:k])\n",
        "  return bestmotifs\n",
        "\n",
        "def generateTextKmer(text, k):\n",
        "  kmers = set()\n",
        "  for i in range(len(text)-k+1):\n",
        "    kmers.add(text[i:i+k])\n",
        "  return kmers\n",
        "\n",
        "def CountMatrix(motifs): \n",
        "  count = np.zeros((4,len(motifs[0])))\n",
        "  for motif in motifs:\n",
        "    \n",
        "    for i in range(len(motif)):\n",
        "      if motif[i-1] == 'A':\n",
        "        count[0][i-1] += 1\n",
        "      elif motif[i-1] == 'C':\n",
        "        count[1][i-1] += 1\n",
        "      elif motif[i-1] == 'G':\n",
        "        count[2][i-1] += 1\n",
        "      elif motif[i-1] == 'T':\n",
        "        count[3][i-1] += 1\n",
        "  return count\n",
        "\n",
        "def ProfileMatrix(motifs): \n",
        "  countMatrix = CountMatrix(motifs)\n",
        "  profileMatrix = np.zeros((4,len(motifs[0])))\n",
        "  #divide count matrix by number of motifs\n",
        "  for row in range(4):\n",
        "    for col in range(k):\n",
        "      profileMatrix[row][col] = countMatrix[row][col] / len(motifs)\n",
        "  return profileMatrix\n",
        "\n",
        "\n",
        "def ProfileMostProbableKmer(genome, k, profile_matrix):\n",
        "  maxprob = 0\n",
        "  kmer = genome[0:k]\n",
        "  for i in range(1,len(genome) - k +1):\n",
        "    prob = 1\n",
        "    pattern = genome[i:i+k]\n",
        "    for j in range(k):\n",
        "      l = symbolToNumber(pattern[j])\n",
        "      prob *= profile_matrix[l][j]\n",
        "    if prob > maxprob:\n",
        "      maxprob = prob\n",
        "      kmer = pattern\n",
        "  return kmer\n",
        "  \n",
        "def symbolToNumber(symbol):\n",
        "\tif symbol == \"A\":\n",
        "\t\treturn 0\n",
        "\tif symbol == \"C\":\n",
        "\t\treturn 1\n",
        "\tif symbol == \"G\":\n",
        "\t\treturn 2\n",
        "\tif symbol == \"T\":\n",
        "\t\treturn 3\n",
        "\n",
        "def NumberToSymbol(number):\n",
        "\tif number == 0:\n",
        "\t\treturn \"A\"\n",
        "\tif number == 1:\n",
        "\t\treturn \"C\"\n",
        "\tif number == 2:\n",
        "\t\treturn \"G\"\n",
        "\tif number == 3:\n",
        "\t\treturn \"T\"\n",
        "\n",
        "def Consensus(profile):\n",
        "  consensus = \"\"\n",
        "  for col in range(len(profile[0])):  \n",
        "    max = 0\n",
        "    loc = 0\n",
        "    for row in range(4):\n",
        "      if profile[row][col] > max:\n",
        "        loc = row  \n",
        "        max = profile[row][col]  \n",
        "    consensus += NumberToSymbol(loc)  \n",
        "  return consensus\n",
        "\n",
        "neucleotide_base = {0:'A', 1:'C', 2:'G', 3:'T'}\n",
        "def NumberToPattern(index, k):\n",
        "    if(k == 1): \n",
        "        return neucleotide_base[index]\n",
        "    pref_index = int(index/4)\n",
        "    rem = int(index%4)\n",
        "    symbol = neucleotide_base[rem] \n",
        "    pref_pattern = numberToPattern(pref_index, k-1) \n",
        "    \n",
        "    return pref_pattern+symbol\n",
        "\n",
        "def Score(motifs):\n",
        "  profile = ProfileMatrix(motifs)\n",
        "  cons = Consensus(profile)\n",
        "  score = 0\n",
        "  for motif in motifs:  \n",
        "    for i in range(len(motif)): \n",
        "      if cons[i] != motif[i]:\n",
        "        score+=1\n",
        "  return score\n",
        "\n",
        "def GreedyMotif(genomes, k, t):\n",
        "  bestMotifs = BestMotifs(genomes, k,t)\n",
        "  kmers = generateTextKmer(genomes[0], k)\n",
        "  for kmer in kmers:\n",
        "    motifs = []\n",
        "    motifs.append(kmer)\n",
        "    for idx in range(1, t):\n",
        "      profile_matrix = ProfileMatrix(motifs) \n",
        "      motifs.append(ProfileMostProbableKmer(genomes[idx], k, profile_matrix))\n",
        "    if Score(motifs) < Score(bestMotifs):\n",
        "      bestMotifs = motifs\n",
        "  return bestMotifs\n",
        "\n",
        "k = int(input(\"Enter pattern length: \"))\n",
        "t = int(input(\"Enter no. of Genomes: \"))\n",
        "with open('/content/rosalind_ba2d.txt', 'r') as f:\n",
        "  genomelist = [line.strip() for line in f.readlines()]\n",
        "ans = GreedyMotif(genomelist, k, t)\n",
        "for idx in ans:\n",
        "  print(idx)"
      ],
      "execution_count": 11,
      "outputs": [
        {
          "output_type": "stream",
          "text": [
            "Enter pattern length: 3\n",
            "Enter no. of Genomes: 5\n",
            "CAG\n",
            "CAG\n",
            "CAA\n",
            "CAA\n",
            "CAA\n"
          ],
          "name": "stdout"
        }
      ]
    }
  ]
}