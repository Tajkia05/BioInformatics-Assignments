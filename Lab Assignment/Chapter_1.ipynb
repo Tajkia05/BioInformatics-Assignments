{
  "nbformat": 4,
  "nbformat_minor": 0,
  "metadata": {
    "colab": {
      "name": "Assignment1 -Ch1(2016331092).ipynb",
      "provenance": [],
      "collapsed_sections": []
    },
    "kernelspec": {
      "name": "python3",
      "display_name": "Python 3"
    },
    "language_info": {
      "name": "python"
    }
  },
  "cells": [
    {
      "cell_type": "markdown",
      "metadata": {
        "id": "H71heObrRXlO"
      },
      "source": [
        "#### BA1A -> Compute the Number of Times a Pattern Appears in a Text"
      ]
    },
    {
      "cell_type": "code",
      "metadata": {
        "id": "lmmzKgfyQLaW",
        "colab": {
          "base_uri": "https://localhost:8080/"
        },
        "outputId": "b1c2c8c8-893c-4da0-b5da-0bf649443acc"
      },
      "source": [
        "def patternCount(text, pattern):\n",
        "    count = 0;\n",
        "    #if text length is 4 and pattern length is 2 then the loop will run till 3rd charachter\n",
        "    for i in range(len(text)-len(pattern)+1):\n",
        "        #print(i)\n",
        "        # slice in text from i to i+pattern length\n",
        "        #abcde if i=0 and pattern length = 3 the slice will be from a to c\n",
        "        if text[i:i+len(pattern)] == pattern:\n",
        "            count=count+1\n",
        "    return count\n",
        "\n",
        "text = input(\"Input the text: \")\n",
        "pattern = input(\"Input the pattern: \")\n",
        "\n",
        "# making all the text lower\n",
        "text_m = text.upper()\n",
        "pattern_m = pattern.upper()\n",
        "\n",
        "occur = patternCount(text_m, pattern_m)\n",
        "\n",
        "print(\"Total Occurrences: \", occur)"
      ],
      "execution_count": 8,
      "outputs": [
        {
          "output_type": "stream",
          "text": [
            "Input the text: GCGCG\n",
            "Input the pattern: GCG\n",
            "Total Occurrences:  2\n"
          ],
          "name": "stdout"
        }
      ]
    },
    {
      "cell_type": "markdown",
      "metadata": {
        "id": "WEj-LvMPR7il"
      },
      "source": [
        "#### BA1B -> Find the Most Frequent Words in a String"
      ]
    },
    {
      "cell_type": "code",
      "metadata": {
        "id": "MLBIRhtmR7rr",
        "colab": {
          "base_uri": "https://localhost:8080/"
        },
        "outputId": "814f6b42-f1f5-4c6b-96c7-635e1030d405"
      },
      "source": [
        "def frequentWord(text, k):\n",
        "    #creating a dictionary\n",
        "    my_dict = {}\n",
        "    for i in range(len(text)-k+1):\n",
        "        pattern = text[i:i+k]\n",
        "        if pattern in my_dict:\n",
        "            my_dict[pattern] += 1  #if pattern already present in dictionary then add 1 with it\n",
        "        else:\n",
        "            my_dict[pattern] = 1  #if not then put 1 in the value\n",
        "    max_value = max(my_dict.values())  # maximum value\n",
        "    max_keys = [key for key, val in my_dict.items() if val == max_value]   #getting all keys with mas value\n",
        "    print(max_keys)\n",
        "    \n",
        "text = input(\"Input the text: \")\n",
        "k = input(\"Input the pattern length: \")\n",
        "\n",
        "# making all the text lower\n",
        "text_m = text.upper()\n",
        "#converting string type k to int\n",
        "k = int(k)\n",
        "frequentWord(text_m, k)"
      ],
      "execution_count": 9,
      "outputs": [
        {
          "output_type": "stream",
          "text": [
            "Input the text: ACGTTGCATGTCGCATGATGCATGAGAGCT\n",
            "Input the pattern length: 4\n",
            "['GCAT', 'CATG']\n"
          ],
          "name": "stdout"
        }
      ]
    },
    {
      "cell_type": "markdown",
      "metadata": {
        "id": "Bkp10jJWR73S"
      },
      "source": [
        "#### BA1C -> Find the Reverse Complement of a String"
      ]
    },
    {
      "cell_type": "code",
      "metadata": {
        "id": "AhgMF5cdR7_b",
        "colab": {
          "base_uri": "https://localhost:8080/"
        },
        "outputId": "3dc889cf-8c89-4240-babc-1d74ede82f23"
      },
      "source": [
        "def reverseCompliment(text):\n",
        "    result = \"\"\n",
        "    for i in range(len(text)):\n",
        "        if(text[i] == 'A'):\n",
        "            result+='T'\n",
        "        elif(text[i] == 'T'):\n",
        "            result+='A'\n",
        "        elif(text[i] == 'G'):\n",
        "            result+='C'\n",
        "        elif(text[i] == 'C'):\n",
        "            result+='G'\n",
        "    return result[::-1] #texx[::-1] used for reversing\n",
        "    \n",
        "    \n",
        "text = input(\"Input the text: \")\n",
        "\n",
        "# making all the text lower\n",
        "text_m = text.upper()\n",
        "print(\"The reverse compliment is: \")\n",
        "print(reverseCompliment(text_m))"
      ],
      "execution_count": 10,
      "outputs": [
        {
          "output_type": "stream",
          "text": [
            "Input the text: AAAACCCGGT\n",
            "The reverse compliment is: \n",
            "ACCGGGTTTT\n"
          ],
          "name": "stdout"
        }
      ]
    },
    {
      "cell_type": "markdown",
      "metadata": {
        "id": "Cpoi50_wR8F9"
      },
      "source": [
        "#### BA1D ->\tFind All Occurrences of a Pattern in a String"
      ]
    },
    {
      "cell_type": "code",
      "metadata": {
        "id": "Bk5u0oSuR8MG",
        "colab": {
          "base_uri": "https://localhost:8080/"
        },
        "outputId": "a0aec0f2-a6e8-4c6c-90ce-2c346a95f111"
      },
      "source": [
        "def Occurences(string, sub):\n",
        "  count = 0;\n",
        "  string_len = len(string)\n",
        "  sub_len = len(sub)\n",
        "  for i in range(string_len-sub_len+1):\n",
        "    if string[i:i+sub_len] == sub:\n",
        "      print(i, end =\" \")\n",
        "      \n",
        "\n",
        "substring = input()\n",
        "string = input()\n",
        "Occurences(string, substring)"
      ],
      "execution_count": 1,
      "outputs": [
        {
          "output_type": "stream",
          "text": [
            "ATAT\n",
            "GATATATGCATATACTT\n",
            "1 3 9 "
          ],
          "name": "stdout"
        }
      ]
    },
    {
      "cell_type": "markdown",
      "metadata": {
        "id": "_n-RAldzR8Ti"
      },
      "source": [
        "#### BA1E -> Find Patterns Forming Clumps in a String"
      ]
    },
    {
      "cell_type": "code",
      "metadata": {
        "id": "TplSRZtkR8b7",
        "colab": {
          "base_uri": "https://localhost:8080/"
        },
        "outputId": "c1e8d329-3fb8-4c4b-fac1-e0c4e5fa1f7b"
      },
      "source": [
        "def generateKmer(text, k):\n",
        "  kmers = set()\n",
        "  for i in range(len(text)-k+1):\n",
        "    kmers.add(text[i:i+k])\n",
        "  return kmers\n",
        "\n",
        "\n",
        "\n",
        "def freqCountUptoT(string, substr, t):\n",
        "    count = 0;\n",
        "    for i in range(len(string)-len(substr)+1):\n",
        "        if string[i:i+len(substr)] == substr:\n",
        "            count=count+1\n",
        "            if count >= t:\n",
        "              return True\n",
        "    return False\n",
        "\n",
        "\n",
        "def LtClump(genome, k, l, t):\n",
        "  ltclump = set() \n",
        "  for i in range(len(genome)-l+1):\n",
        "    lkmers = generateKmer(genome[i:i+l], k)\n",
        "    for kmer in lkmers:\n",
        "      if freqCountUptoT(genome[i:i+l], kmer, t):\n",
        "        ltclump.add(kmer)\n",
        "  print(*ltclump, sep=\" \")\n",
        "\n",
        " \n",
        "genome = \"CGGACTCGACAGATGTGAAGAAATGTGAAGACTGAGTGAAGAGAAGAGGAAACACGACACGACATTGCGACATAATGTACGAATGTAATGTGCCTATGGC\"\n",
        "k = 5\n",
        "l = 75\n",
        "t = 4\n",
        "LtClump(genome, k, l, t)"
      ],
      "execution_count": 11,
      "outputs": [
        {
          "output_type": "stream",
          "text": [
            "CGACA AATGT GAAGA\n"
          ],
          "name": "stdout"
        }
      ]
    },
    {
      "cell_type": "markdown",
      "metadata": {
        "id": "AxOMHvvDR8jD"
      },
      "source": [
        "#### BA1F -> Find a Position in a Genome Minimizing the Skew"
      ]
    },
    {
      "cell_type": "code",
      "metadata": {
        "id": "MRT9m13wR8pt",
        "colab": {
          "base_uri": "https://localhost:8080/"
        },
        "outputId": "3ed336f6-8b65-44c3-cd54-c3b2e82b0f08"
      },
      "source": [
        "def minSkew(genome):\n",
        "  count = 0;\n",
        "  arr = []\n",
        "  arr.append(count) #inital value 0\n",
        "  for i in range(len(genome)):\n",
        "    if genome[i] == 'T' or genome[i] == 'A':\n",
        "      arr.append(count)\n",
        "      continue\n",
        "    elif genome[i] == 'G':\n",
        "          count+=1\n",
        "    elif genome[i] == 'C':\n",
        "          count-=1\n",
        "    arr.append(count)\n",
        "    #print(arr)\n",
        "  min_val = min(arr)\n",
        "  \n",
        "  for i in range(len(arr)):\n",
        "    if arr[i] == min_val:\n",
        "      print(i, end = \" \") # printing all the index of the minimum value\n",
        "\n",
        "genome = input(\"Enter the genome: \")\n",
        "genome = genome.upper()\n",
        "minSkew(genome)"
      ],
      "execution_count": 12,
      "outputs": [
        {
          "output_type": "stream",
          "text": [
            "Enter the genome: CCTATCGGTGGATTAGCATGTCCCTGTACGTTTCGCCGCGAACTAGTTCACACGGCTTGATGGCAAATGGTTTTTCCGGCGACCGTAATCGTCCACCGAG\n",
            "53 97 "
          ],
          "name": "stdout"
        }
      ]
    },
    {
      "cell_type": "markdown",
      "metadata": {
        "id": "P5cl66_bR8wz"
      },
      "source": [
        "#### BA1G -> Compute the Hamming Distance Between Two Strings"
      ]
    },
    {
      "cell_type": "code",
      "metadata": {
        "id": "A7fQZP_KR83E",
        "colab": {
          "base_uri": "https://localhost:8080/"
        },
        "outputId": "26f08cc5-7fe4-4440-bc81-196fcb37edcb"
      },
      "source": [
        "def computeHamDis(text1, text2):\n",
        "    count=0;\n",
        "    for i in range(len(text1)):\n",
        "        if(text1[i] != text2[i]):\n",
        "            count+=1\n",
        "    return count\n",
        "    \n",
        "seq1 = input(\"Input the first sequence: \")\n",
        "seq2 = input(\"Input the second sequence: \")\n",
        "\n",
        "print(computeHamDis(seq1, seq2))\n",
        "    "
      ],
      "execution_count": 13,
      "outputs": [
        {
          "output_type": "stream",
          "text": [
            "Input the first sequence: GGGCCGTTGGT\n",
            "Input the second sequence: GGACCGTTGAC\n",
            "3\n"
          ],
          "name": "stdout"
        }
      ]
    },
    {
      "cell_type": "markdown",
      "metadata": {
        "id": "nYJizVXqR8-k"
      },
      "source": [
        "#### BA1H -> Find All Approximate Occurrences of a Pattern in a String"
      ]
    },
    {
      "cell_type": "code",
      "metadata": {
        "id": "Ca6eKtD8R9FL",
        "colab": {
          "base_uri": "https://localhost:8080/"
        },
        "outputId": "407fa0b6-170c-4b54-dba3-3a54f359dafb"
      },
      "source": [
        "#All starting positions where Pattern appears as a substring of Text with at most d mismatches.\n",
        "#calculate hamming distance\n",
        "def hammingDistance(text1, text2):\n",
        "    count=0;\n",
        "    for i in range(len(text1)):\n",
        "        if(text1[i] != text2[i]):\n",
        "            count+=1\n",
        "    return count\n",
        "\n",
        "def findOccur(pattern, text, k):\n",
        "    #decalre empty string\n",
        "    ans = ''\n",
        "    for i in range(len(text)-len(pattern)+1):\n",
        "        if hammingDistance(pattern, text[i:i+len(pattern)]) <= k:\n",
        "            #converting integer i into string because ans is an empty string\n",
        "            ans+=str(i)+' '\n",
        "    return ans\n",
        "\n",
        "pat = input(\"Input the pattern: \")\n",
        "seq = input(\"Input the sequence: \") \n",
        "pat = pat.upper()\n",
        "seq = seq.upper()\n",
        "k = int(input(\"Enter the integer: \"))\n",
        "print(findOccur(pat, seq, k))"
      ],
      "execution_count": 14,
      "outputs": [
        {
          "output_type": "stream",
          "text": [
            "Input the pattern: ATTCTGGA\n",
            "Input the sequence: CGCCCGAATCCAGAACGCATTCCCATATTTCGGGACCACTGGCCTCCACGGTACGGACGTCAATCAAATGCCTAGCGGCTTGTGGTTTCTCCTACGCTCC\n",
            "Enter the integer: 3\n",
            "6 7 26 27 78 \n"
          ],
          "name": "stdout"
        }
      ]
    },
    {
      "cell_type": "markdown",
      "metadata": {
        "id": "-iXZ-6vaR9Lz"
      },
      "source": [
        "#### BA1I -> Find the Most Frequent Words with Mismatches in a String"
      ]
    },
    {
      "cell_type": "code",
      "metadata": {
        "id": "PBfPmjcyR9SC",
        "colab": {
          "base_uri": "https://localhost:8080/"
        },
        "outputId": "82fe7891-e4fe-4f68-8660-0a031756968d"
      },
      "source": [
        "#generate all possible kmers\n",
        "def generateAllKmers(k):\n",
        "    base_neucleotides = [\"A\", \"T\", \"G\", \"C\"]\n",
        "    last_base = base_neucleotides #copying base neucleotides in last_base\n",
        "    current_array = [] #declare an emty list\n",
        "    for i in range(k-1): #for 2 length kmer the loop will run for i=0 and i=1\n",
        "        for j in base_neucleotides: #A, T, G, C\n",
        "            for k in last_base: #copy of A, T, G, C\n",
        "                current_array.append(j+k) \n",
        "        last_base = current_array #update last_base\n",
        "        current_array = [] #empty current array\n",
        "    return last_base\n",
        "#generateAllKmers(3)\n",
        "\n",
        "def hammingDistance(text1, text2):\n",
        "    count=0;\n",
        "    for i in range(len(text1)):\n",
        "        if(text1[i] != text2[i]):\n",
        "            count+=1\n",
        "    return count\n",
        "\n",
        "def textKmer(text, k):\n",
        "    my_arr = []\n",
        "    for i in range(len(text)-k+1):\n",
        "        my_arr.append(text[i:i+k])\n",
        "    return my_arr\n",
        "def mismatchFreq(text, k, d):\n",
        "    my_dict = {}\n",
        "    all_Kmer = generateAllKmers(k) #generate all possible k mers\n",
        "    text_Kmer = textKmer(text, k)  #generate all possible kmers from given text\n",
        "    for i in range(len(all_Kmer)):\n",
        "        for j in range(len(text_Kmer)):\n",
        "            if(hammingDistance(all_Kmer[i], text_Kmer[j]) <= d): #for each kmer generated from all possible kmers check hamming distance with main text kmers\n",
        "                if all_Kmer[i] in my_dict:  #if hamming diistance is less than d append to dictionary\n",
        "                    my_dict[all_Kmer[i]] += 1\n",
        "                else:\n",
        "                    my_dict[all_Kmer[i]] = 1\n",
        "    max_value = max(my_dict.values())  # maximum value\n",
        "    max_keys = [key for key, val in my_dict.items() if val == max_value]   #getting all keys with mas value\n",
        "    print(*max_keys, sep = \" \")  #prints list without comma and bracket\n",
        "        \n",
        "text = input(\"Enter the sequence: \")\n",
        "text = text.upper()\n",
        "k = int(input(\"Enter the length of pattern: \"))\n",
        "d = int(input(\"Enter the value d: \"))\n",
        "\n",
        "#textKmer(text, k)\n",
        "mismatchFreq(text, k, d)\n",
        "    "
      ],
      "execution_count": 15,
      "outputs": [
        {
          "output_type": "stream",
          "text": [
            "Enter the sequence: ACGTTGCATGTCGCATGATGCATGAGAGCT\n",
            "Enter the length of pattern: 4\n",
            "Enter the value d: 1\n",
            "ATGT ATGC GATG\n"
          ],
          "name": "stdout"
        }
      ]
    },
    {
      "cell_type": "markdown",
      "metadata": {
        "id": "ntLEEdWMR9YU"
      },
      "source": [
        "#### BA1J -> Find Frequent Words with Mismatches and Reverse Complements"
      ]
    },
    {
      "cell_type": "code",
      "metadata": {
        "id": "LtUP8mEnR9fI",
        "colab": {
          "base_uri": "https://localhost:8080/"
        },
        "outputId": "8dde195b-3ab3-47a6-e2de-6e3d4c2d5d41"
      },
      "source": [
        "#generate all possible kmers\n",
        "def generateAllKmers(k):\n",
        "    base_neucleotides = [\"A\", \"T\", \"G\", \"C\"]\n",
        "    last_base = base_neucleotides #copying base neucleotides in last_base\n",
        "    current_array = [] #declare an emty list\n",
        "    for i in range(k-1): #for 2 length kmer the loop will run for i=0 and i=1\n",
        "        for j in base_neucleotides: #A, T, G, C\n",
        "            for k in last_base: #copy of A, T, G, C\n",
        "                current_array.append(j+k) \n",
        "        last_base = current_array #update last_base\n",
        "        current_array = [] #empty current array\n",
        "    return last_base\n",
        "#generateAllKmers(3)\n",
        "\n",
        "def reverseCompliment(text):\n",
        "    result = \"\"\n",
        "    for i in range(len(text)):\n",
        "        if(text[i] == 'A'):\n",
        "            result+='T'\n",
        "        elif(text[i] == 'T'):\n",
        "            result+='A'\n",
        "        elif(text[i] == 'G'):\n",
        "            result+='C'\n",
        "        elif(text[i] == 'C'):\n",
        "            result+='G'\n",
        "    return result[::-1]\n",
        "def hammingDistance(text1, text2):\n",
        "    count=0;\n",
        "    for i in range(len(text1)):\n",
        "        if(text1[i] != text2[i]):\n",
        "            count+=1\n",
        "    return count\n",
        "\n",
        "def textKmer(text, k):\n",
        "    my_arr = []\n",
        "    for i in range(len(text)-k+1):\n",
        "        my_arr.append(text[i:i+k])\n",
        "    return my_arr\n",
        "def mismatchFreq(text, k, d):\n",
        "    my_dict = {}\n",
        "    all_Kmer = generateAllKmers(k) #generate all possible k mers\n",
        "    text_Kmer = textKmer(text, k)  #generate all possible kmers from given text\n",
        "    for i in range(len(all_Kmer)):\n",
        "        for j in range(len(text_Kmer)):\n",
        "            if hammingDistance(all_Kmer[i], text_Kmer[j]) <= d: #for each kmer generated from all possible kmers check hamming distance with main text kmers\n",
        "                    if all_Kmer[i] in my_dict:  #if hamming diistance is less than d append to dictionary\n",
        "                        my_dict[all_Kmer[i]] += 1\n",
        "                    else:\n",
        "                        my_dict[all_Kmer[i]] = 1\n",
        "    for i in range(len(all_Kmer)):\n",
        "        for j in range(len(text_Kmer)):\n",
        "            if hammingDistance(reverseCompliment(all_Kmer[i]), text_Kmer[j]) <= d: #for reverse compliment each kmer generated from all possible kmers check hamming distance with main text kmers\n",
        "                    if all_Kmer[i] in my_dict:  #if hamming distance is less than d append to dictionary with the all generated kmer value\n",
        "                        my_dict[all_Kmer[i]] += 1\n",
        "                    else:\n",
        "                        my_dict[all_Kmer[i]] = 1\n",
        "    max_value = max(my_dict.values())  # maximum value\n",
        "    max_keys = [key for key, val in my_dict.items() if val == max_value]   #getting all keys with mas value\n",
        "    print(*max_keys, sep = \" \")  #prints list without comma and bracket\n",
        "        \n",
        "text = input(\"Enter the sequence: \")\n",
        "text = text.upper()\n",
        "k = int(input(\"Enter the length of pattern: \"))\n",
        "d = int(input(\"Enter the value d: \"))\n",
        "\n",
        "#textKmer(text, k)\n",
        "mismatchFreq(text, k, d)\n",
        "    "
      ],
      "execution_count": 16,
      "outputs": [
        {
          "output_type": "stream",
          "text": [
            "Enter the sequence: ACGTTGCATGTCGCATGATGCATGAGAGCT\n",
            "Enter the length of pattern: 4\n",
            "Enter the value d: 1\n",
            "ATGT ACAT\n"
          ],
          "name": "stdout"
        }
      ]
    },
    {
      "cell_type": "markdown",
      "metadata": {
        "id": "30EU43r0ezn_"
      },
      "source": [
        "#### BA1K -> Generate the Frequency Array of a String"
      ]
    },
    {
      "cell_type": "code",
      "metadata": {
        "colab": {
          "base_uri": "https://localhost:8080/"
        },
        "id": "s-ntgh2vUHpz",
        "outputId": "5e332ddf-78a2-4c99-d388-410cd3584322"
      },
      "source": [
        "def generateAllKmers(k):\n",
        "    base_neucleotides = [\"A\", \"T\", \"G\", \"C\"]\n",
        "    last_base = base_neucleotides #copying base neucleotides in last_base\n",
        "    current_array = [] #declare an emty list\n",
        "    for i in range(k-1): #for 2 length kmer the loop will run for i=0 and i=1\n",
        "        for j in base_neucleotides: #A, T, G, C\n",
        "            for k in last_base: #copy of A, T, G, C\n",
        "                current_array.append(j+k) \n",
        "        last_base = current_array #update last_base\n",
        "        current_array = [] #empty current array\n",
        "    return sorted(last_base)\n",
        "\n",
        "def patternCount(text, pattern):\n",
        "    count = 0;\n",
        "    #if text length is 4 and pattern length is 2 then the loop will run till 3rd charachter\n",
        "    for i in range(len(text)-len(pattern)+1):\n",
        "        #print(i)\n",
        "        # slice in text from i to i+pattern length\n",
        "        #abcde if i=0 and pattern length = 3 the slice will be from a to c\n",
        "        if text[i:i+len(pattern)] == pattern:\n",
        "            count=count+1\n",
        "    return count\n",
        "\n",
        "def FrequencyArray(text, k):\n",
        "  kmers = generateAllKmers(k)\n",
        "  for kmer in kmers:\n",
        "   print(patternCount(text, kmer), end = \" \")\n",
        "\n",
        "text = input()\n",
        "k = int(input())\n",
        "FrequencyArray(text, k)"
      ],
      "execution_count": 4,
      "outputs": [
        {
          "output_type": "stream",
          "text": [
            "ACGCGGCTCTGAAA\n",
            "2\n",
            "2 1 0 0 0 0 2 2 1 2 1 0 0 1 1 0 "
          ],
          "name": "stdout"
        }
      ]
    },
    {
      "cell_type": "markdown",
      "metadata": {
        "id": "1nm12HFcR9yR"
      },
      "source": [
        "#### BA1L -> Implement PatternToNumber"
      ]
    },
    {
      "cell_type": "code",
      "metadata": {
        "id": "EAiDM_1FR94p",
        "colab": {
          "base_uri": "https://localhost:8080/"
        },
        "outputId": "2921a5bf-1d91-440e-fa6f-ea9123c67af6"
      },
      "source": [
        "neucleotide_base = {'A':0, 'C':1, 'G':2, 'T':3}\n",
        "def patternToNumber(pattern):\n",
        "    if pattern == \"\":\n",
        "        return 0\n",
        "    symbol = pattern[len(pattern)-1]\n",
        "    #print(neucleotide_base[symbol])\n",
        "    prefix = pattern[0:len(pattern)-1]\n",
        "    \n",
        "    return 4*patternToNumber(prefix)+neucleotide_base[symbol] \n",
        "#AGT-> T+4*prefix(AG)\n",
        "#3+4*(G=2)+4*prefix(A)\n",
        "#3+8+0 = 11\n",
        "pat = input(\"Enter the pattern: \")\n",
        "pat = pat.upper()\n",
        "patternToNumber(pat)"
      ],
      "execution_count": 17,
      "outputs": [
        {
          "output_type": "stream",
          "text": [
            "Enter the pattern: AGT\n"
          ],
          "name": "stdout"
        },
        {
          "output_type": "execute_result",
          "data": {
            "text/plain": [
              "11"
            ]
          },
          "metadata": {
            "tags": []
          },
          "execution_count": 17
        }
      ]
    },
    {
      "cell_type": "markdown",
      "metadata": {
        "id": "GivARGPMegoI"
      },
      "source": [
        "#### BA1M -> Implement NumberToPattern"
      ]
    },
    {
      "cell_type": "code",
      "metadata": {
        "id": "-uIx7Rvbegy2",
        "colab": {
          "base_uri": "https://localhost:8080/"
        },
        "outputId": "4ed42e87-0195-42ff-bec6-e1bbf06aabaf"
      },
      "source": [
        "neucleotide_base = {0:'A', 1:'C', 2:'G', 3:'T'}\n",
        "def numberToPattern(index, k):\n",
        "    if(k == 1): #base case\n",
        "        return neucleotide_base[index]\n",
        "    pref_index = int(index/4)\n",
        "    rem = int(index%4)\n",
        "    symbol = neucleotide_base[rem] #remainder is the single symbol\n",
        "    pref_pattern = numberToPattern(pref_index, k-1) #recursive call\n",
        "    \n",
        "    return pref_pattern+symbol\n",
        "\n",
        "index = int(input(\"Enter the index: \"))\n",
        "k = int(input(\"Enter k: \"))\n",
        "print(numberToPattern(index, k))"
      ],
      "execution_count": 18,
      "outputs": [
        {
          "output_type": "stream",
          "text": [
            "Enter the index: 45\n",
            "Enter k: 4\n",
            "AGTC\n"
          ],
          "name": "stdout"
        }
      ]
    },
    {
      "cell_type": "markdown",
      "metadata": {
        "id": "EAzp0LHfRs6w"
      },
      "source": [
        "#### BA1N -> Generate the d-Neighborhood of a String"
      ]
    },
    {
      "cell_type": "code",
      "metadata": {
        "id": "qsdfk6z-ez1x",
        "colab": {
          "base_uri": "https://localhost:8080/"
        },
        "outputId": "c0b990b0-d9b8-48dd-9439-e86f726dbf19"
      },
      "source": [
        "def generateAllKmers(k):\n",
        "    base_neucleotides = [\"A\", \"T\", \"G\", \"C\"]\n",
        "    last_base = base_neucleotides #copying base neucleotides in last_base\n",
        "    current_array = [] #declare an emty list\n",
        "    for i in range(k-1): #for 2 length kmer the loop will run for i=0 and i=1\n",
        "        for j in base_neucleotides: #A, T, G, C\n",
        "            for k in last_base: #copy of A, T, G, C\n",
        "                current_array.append(j+k) \n",
        "        last_base = current_array #update last_base\n",
        "        current_array = [] #empty current array\n",
        "    return sorted(last_base)\n",
        "\n",
        "def hammingDistance(text1, text2):\n",
        "    count=0;\n",
        "    for i in range(len(text1)):\n",
        "        if(text1[i] != text2[i]):\n",
        "            count+=1\n",
        "    return count\n",
        "\n",
        "def DNeighbours(text, d):\n",
        "  length = len(text)\n",
        "  ans = []\n",
        "  kmers = generateAllKmers(length)\n",
        "  for kmer in kmers:\n",
        "    if hammingDistance(text, kmer) <= d:\n",
        "      ans.append(kmer)\n",
        "  return ans\n",
        "\n",
        "text = input()\n",
        "distance = int(input())\n",
        "result = DNeighbours(text, distance)\n",
        "for res in result:\n",
        "  print(res)"
      ],
      "execution_count": 7,
      "outputs": [
        {
          "output_type": "stream",
          "text": [
            "ACG\n",
            "1\n",
            "AAG\n",
            "ACA\n",
            "ACC\n",
            "ACG\n",
            "ACT\n",
            "AGG\n",
            "ATG\n",
            "CCG\n",
            "GCG\n",
            "TCG\n"
          ],
          "name": "stdout"
        }
      ]
    }
  ]
}