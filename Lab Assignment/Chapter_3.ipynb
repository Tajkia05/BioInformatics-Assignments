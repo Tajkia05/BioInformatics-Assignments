{
  "nbformat": 4,
  "nbformat_minor": 0,
  "metadata": {
    "colab": {
      "name": "Assignment-Chapter 3(2016331092).ipynb",
      "provenance": [],
      "collapsed_sections": []
    },
    "kernelspec": {
      "display_name": "Python 3",
      "name": "python3"
    },
    "language_info": {
      "name": "python"
    }
  },
  "cells": [
    {
      "cell_type": "markdown",
      "metadata": {
        "id": "aMdiLVbkelqg"
      },
      "source": [
        "BA3A ->Generate the k-mer Composition of a String"
      ]
    },
    {
      "cell_type": "code",
      "metadata": {
        "colab": {
          "base_uri": "https://localhost:8080/"
        },
        "id": "1cowVlWHg-sK",
        "outputId": "2ed2fd46-0997-412e-fba1-c48c3aee10bc"
      },
      "source": [
        "def KmerCompositionofString(genome, k):\n",
        "  kmers = []\n",
        "  for i in range(len(genome)-k+1):\n",
        "    kmers.append(genome[i:i+k])\n",
        "  kmers.sort()\n",
        "  return kmers\n",
        "\n",
        "k = 5\n",
        "genome = \"CAATCCAAC\"\n",
        "ans = KmerCompositionofString(genome, k)\n",
        "#print(\"The answer is: \")\n",
        "print(*ans, sep='\\n')"
      ],
      "execution_count": 1,
      "outputs": [
        {
          "output_type": "stream",
          "text": [
            "AATCC\n",
            "ATCCA\n",
            "CAATC\n",
            "CCAAC\n",
            "TCCAA\n"
          ],
          "name": "stdout"
        }
      ]
    },
    {
      "cell_type": "markdown",
      "metadata": {
        "id": "eiY6Jh00g_D2"
      },
      "source": [
        "BA3B -> Reconstruct a String from its Genome Path"
      ]
    },
    {
      "cell_type": "code",
      "metadata": {
        "colab": {
          "base_uri": "https://localhost:8080/"
        },
        "id": "LH39p-zlhBEf",
        "outputId": "7786aada-d52c-4f1a-f52e-df6e7026836f"
      },
      "source": [
        "def ReconstructGenomePath(genomelist):\n",
        "  path = genomelist[0] #start genome\n",
        "  #print(path)\n",
        "  for i in range(1, len(genomelist)):\n",
        "    path += genomelist[i][-1] #[-1] returns the last charachter of a string\n",
        "  return path\n",
        "\n",
        "genomelist = []\n",
        "#read a file line by line into a list, (readling file line into genomelist)\n",
        "# with open(filename) as f:\n",
        "#     content = f.readlines()\n",
        "# with open('/content/ReconstructString.txt', 'r') as f:\n",
        "#         genomelist = [line.strip() for line in f.readlines()] #content = [x.strip() for x in content] -> removes whitespace charachters ('\\n) from end of each line\n",
        "genomelist = [\"ACCGA\", \"CCGAA\", \"CGAAG\", \"GAAGC\", \"AAGCT\"]\n",
        "ans = ReconstructGenomePath(genomelist)\n",
        "print(ans)\n",
        "\n",
        "    "
      ],
      "execution_count": 3,
      "outputs": [
        {
          "output_type": "stream",
          "text": [
            "ACCGAAGCT\n"
          ],
          "name": "stdout"
        }
      ]
    },
    {
      "cell_type": "markdown",
      "metadata": {
        "id": "r9Ecw7t8hBq0"
      },
      "source": [
        "BA3C -> Construct the Overlap Graph of a Collection of k-mers"
      ]
    },
    {
      "cell_type": "code",
      "metadata": {
        "colab": {
          "base_uri": "https://localhost:8080/"
        },
        "id": "XYGZTtE3hFqf",
        "outputId": "45237c0f-8529-4e3d-a876-1d8c47a306eb"
      },
      "source": [
        "def OverlapGraph(genomelist):\n",
        "  genomelist.sort()\n",
        "  for genome in genomelist:\n",
        "    for gene in genomelist:\n",
        "      if SuffixofString(genome) == PrefixofString(gene):\n",
        "        print(genome +\" -> \"+gene)\n",
        "\n",
        "def SuffixofString(string):\n",
        "    return string[1:len(string)]\n",
        "\n",
        "def PrefixofString(string):\n",
        "    return string[0:len(string)-1]\n",
        "\n",
        "genomelist = [\"ATGCG\", \"GCATG\", \"CATGC\", \"AGGCA\", \"GGCAT\"]\n",
        "# with open('/content/OverlapGraphStrings.txt', 'r') as f:\n",
        "#         genomelist = [line.strip() for line in f.readlines()] \n",
        "OverlapGraph(genomelist)"
      ],
      "execution_count": 4,
      "outputs": [
        {
          "output_type": "stream",
          "text": [
            "AGGCA -> GGCAT\n",
            "CATGC -> ATGCG\n",
            "GCATG -> CATGC\n",
            "GGCAT -> GCATG\n"
          ],
          "name": "stdout"
        }
      ]
    },
    {
      "cell_type": "markdown",
      "metadata": {
        "id": "VthZwk8UhIKe"
      },
      "source": [
        "BA3D -> Construct the De Bruijn Graph of a String"
      ]
    },
    {
      "cell_type": "code",
      "metadata": {
        "colab": {
          "base_uri": "https://localhost:8080/"
        },
        "id": "owtHJj6IhJfX",
        "outputId": "5b46c531-2afa-467e-a514-099e1e63c6bb"
      },
      "source": [
        "def KmerCompositionofString(genome, k):\n",
        "  kmers = []\n",
        "  for i in range(len(genome)-k+1):\n",
        "    kmers.append(genome[i:i+k])\n",
        "  kmers.sort()\n",
        "  return kmers \n",
        "\n",
        "def SuffixofString(string):\n",
        "    return string[1:len(string)]\n",
        "\n",
        "def PrefixofString(string):\n",
        "    return string[0:len(string)-1]\n",
        "\n",
        "def DeBruign(k, genome):\n",
        "  result={}\n",
        "  kmers = KmerCompositionofString(genome, k)\n",
        "  for kmer in kmers:\n",
        "    if PrefixofString(kmer) not in result:\n",
        "      result[PrefixofString(kmer)] = SuffixofString(kmer)  #AAGA if mydict[AAG] is not in diction\n",
        "    else:\n",
        "      result[PrefixofString(kmer)] += ',' + SuffixofString(kmer)\n",
        "  return result\n",
        "\n",
        "k = 4\n",
        "genome = \"AAGATTCTCTAC\"\n",
        "ans = DeBruign(k, genome)\n",
        "for key, value in  sorted(ans.items()): #sort dictionary by keys\n",
        "  print(key +\" -> \"+ value)\n",
        "\n"
      ],
      "execution_count": 5,
      "outputs": [
        {
          "output_type": "stream",
          "text": [
            "AAG -> AGA\n",
            "AGA -> GAT\n",
            "ATT -> TTC\n",
            "CTA -> TAC\n",
            "CTC -> TCT\n",
            "GAT -> ATT\n",
            "TCT -> CTA,CTC\n",
            "TTC -> TCT\n"
          ],
          "name": "stdout"
        }
      ]
    },
    {
      "cell_type": "markdown",
      "metadata": {
        "id": "owwR7vlkhJrF"
      },
      "source": [
        "BA3E -> Construct the De Bruijn Graph of a Collection of k-mers"
      ]
    },
    {
      "cell_type": "code",
      "metadata": {
        "colab": {
          "base_uri": "https://localhost:8080/"
        },
        "id": "SG0EVQpKl83h",
        "outputId": "bae6e8a1-2d69-428f-d954-e34f66807e2f"
      },
      "source": [
        "def SuffixofString(string):\n",
        "    return string[1:len(string)]\n",
        "\n",
        "def PrefixofString(string):\n",
        "    return string[0:len(string)-1]\n",
        "\n",
        "def DeBruign(kmers):\n",
        "  result={}\n",
        "  for kmer in kmers:\n",
        "    if PrefixofString(kmer) not in result:\n",
        "      result[PrefixofString(kmer)] = SuffixofString(kmer)  #AAGA if mydict[AAG] is not in diction\n",
        "    else:\n",
        "      result[PrefixofString(kmer)] += ',' + SuffixofString(kmer)\n",
        "  return result\n",
        "\n",
        "kmers = [\"GAGG\",\"CAGG\",\"GGGG\",\"GGGA\", \"CAGG\",\"AGGG\", \"GGAG\"]\n",
        "# with open('/content/DeBruignFromKmer.txt', 'r') as f:\n",
        "#         kmers = [line.strip() for line in f.readlines()] \n",
        "ans = DeBruign(kmers)\n",
        "for key, value in  sorted(ans.items()): #sort dictionary by keys\n",
        "  print(key +\" -> \"+ value)"
      ],
      "execution_count": 6,
      "outputs": [
        {
          "output_type": "stream",
          "text": [
            "AGG -> GGG\n",
            "CAG -> AGG,AGG\n",
            "GAG -> AGG\n",
            "GGA -> GAG\n",
            "GGG -> GGG,GGA\n"
          ],
          "name": "stdout"
        }
      ]
    },
    {
      "cell_type": "markdown",
      "metadata": {
        "id": "o5xweDA6GzAH"
      },
      "source": [
        "BA3F -> Find Eulerian Cycle"
      ]
    },
    {
      "cell_type": "code",
      "metadata": {
        "colab": {
          "base_uri": "https://localhost:8080/"
        },
        "id": "SJaqRpNcGiJw",
        "outputId": "4849bd44-4104-4812-bc6b-529aa8a97ac0"
      },
      "source": [
        "import sys\n",
        "from re import split\n",
        "from random import choice\n",
        "\n",
        "\n",
        "def parse_adj_list(adj_list_text):\n",
        "    adj_list = {}\n",
        "    for elem in adj_list_text:\n",
        "        temp = split(' -> ', elem)\n",
        "        adj_list[temp[0]] = temp[1].split(',')\n",
        "    return adj_list\n",
        "\n",
        "\n",
        "def remove_edge(adj_list, from_node, to_node):\n",
        "    adj_list[from_node].remove(to_node)\n",
        "    if not adj_list[from_node]:\n",
        "        del adj_list[from_node]\n",
        "    return adj_list\n",
        "\n",
        "\n",
        "def Eulerian_cycle(adj_list):\n",
        "    # form a cycle Cycle by randomly walking in Graph\n",
        "    start_node, edges = choice(list(adj_list.items()))\n",
        "    target_node = choice(edges)\n",
        "    adj_list = remove_edge(adj_list, start_node, target_node)\n",
        "\n",
        "    Cycle = [start_node, target_node]\n",
        "    current_node = target_node\n",
        "    while current_node != start_node:\n",
        "        edges = adj_list[current_node]\n",
        "        target_node = choice(edges)\n",
        "        adj_list = remove_edge(adj_list, current_node, target_node)\n",
        "        current_node = target_node\n",
        "        Cycle.append(current_node)\n",
        "\n",
        "    while adj_list:\n",
        "        potential_starts = [(idx, node) for idx, node in enumerate(Cycle) if node in adj_list]\n",
        "        idx, new_start = choice(potential_starts)\n",
        "\n",
        "        # form Cycle’ by traversing Cycle (starting at newStart) and then randomly walking\n",
        "        new_cycle = Cycle[idx:] + Cycle[1:idx + 1]\n",
        "\n",
        "        target_node = choice(adj_list[new_start])\n",
        "        adj_list = remove_edge(adj_list, new_start, target_node)\n",
        "        current_node = target_node\n",
        "        new_cycle.append(current_node)\n",
        "        while current_node != new_start:\n",
        "            edges = adj_list[current_node]\n",
        "            target_node = choice(edges)\n",
        "            adj_list = remove_edge(adj_list, current_node, target_node)\n",
        "            current_node = target_node\n",
        "            new_cycle.append(current_node)\n",
        "        Cycle = new_cycle\n",
        "    return Cycle\n",
        "\n",
        "with open ('/content/rosalind_ba3f.txt', 'r') as f:\n",
        "    inputLines = [line.strip() for line in f.readlines()]\n",
        "\n",
        "adjList = parse_adj_list(inputLines)\n",
        "print(\"->\".join(Eulerian_cycle(adjList)))\n"
      ],
      "execution_count": null,
      "outputs": [
        {
          "output_type": "stream",
          "text": [
            "6->5->4->2->1->0->3->2->6->8->7->9->6\n"
          ],
          "name": "stdout"
        }
      ]
    },
    {
      "cell_type": "markdown",
      "metadata": {
        "id": "fZcEs82VHCA2"
      },
      "source": [
        "BA3G -> Find Eulerian Path"
      ]
    },
    {
      "cell_type": "code",
      "metadata": {
        "colab": {
          "base_uri": "https://localhost:8080/"
        },
        "id": "5MBHkQa-H3Jn",
        "outputId": "11af13db-a771-44dd-e4b8-0f12d8e76acd"
      },
      "source": [
        "from random import choice\n",
        "\n",
        "def RemoveEdge(adjList, startNode, targetNode):\n",
        "  # first remove the edge from start to target\n",
        "  adjList[startNode].remove(targetNode)\n",
        "  if not adjList[startNode]: # if there is not any associated value with startNode \n",
        "    del adjList[startNode] # delete it from list\n",
        "  return adjList\n",
        "\n",
        "def FindEuerianCycle(adjList):\n",
        "  # step 1: form a cycle Cycle by randomly walking in Graph (don't visit the same edge twice!)\n",
        "  \n",
        "  # randomly picking node and corresponding edges\n",
        "  startNode, edges = choice(list(adjList.items()))\n",
        "\n",
        "  # randomly picking one of the target nodes from edgelist\n",
        "  targetNode = choice(edges)\n",
        "\n",
        "  # as we have visited one edge, we can remove it from our adjList\n",
        "  adjList = RemoveEdge(adjList, startNode, targetNode) \n",
        "\n",
        "  # our Cycle\n",
        "  cycle = [startNode, targetNode]\n",
        "  \n",
        "  # making target node the current node from where we will continue the traversal\n",
        "  currentNode = targetNode\n",
        "\n",
        "  while currentNode != startNode:\n",
        "    # find current node edges\n",
        "    edges = adjList[currentNode]\n",
        "\n",
        "    # picking a target node randomly\n",
        "    targetNode = choice(edges)\n",
        "\n",
        "    # now again we have visited currentNode -> targetNode, so we can remove this edge\n",
        "    adjList = RemoveEdge(adjList, currentNode, targetNode)\n",
        "\n",
        "    # updating currentNode\n",
        "    currentNode = targetNode\n",
        "\n",
        "    # appending new node into cycle\n",
        "    cycle.append(currentNode)\n",
        "  \n",
        "  # now we have finished step 1. Our all adjList have to be removed. \n",
        "  # now we need to check for any unexpected edges\n",
        "  # if any, then do the same process starting from unexpected edges\n",
        "  # otherwise return the cycle\n",
        "  while adjList:\n",
        "    \n",
        "    # checking if any node in cycle exist in adjList, storing them into potentialStarts\n",
        "    potentiaStarts = [(idx, node) for idx, node in enumerate(cycle) if node in adjList]\n",
        "        \n",
        "    # choosing randomly a startpoint\n",
        "    idx, newStart = choice(potentiaStarts)\n",
        "\n",
        "    # forming new cycle starting from new start and then randomly walking\n",
        "    newCycle = cycle[idx:] + cycle[1:idx+1]\n",
        "\n",
        "    edges = adjList[newStart]\n",
        "    \n",
        "    # selecting new target node\n",
        "    targetNode = choice(edges)\n",
        "\n",
        "    adjList = RemoveEdge(adjList, newStart, targetNode)\n",
        "\n",
        "    currentNode = targetNode\n",
        "    newCycle.append(currentNode)\n",
        "\n",
        "    # starting randomly traversal until currentNode != newStart\n",
        "    while currentNode != newStart:\n",
        "      edges = adjList[currentNode]\n",
        "      targetNode = choice(edges)\n",
        "      adjList = RemoveEdge(adjList, currentNode, targetNode)\n",
        "      currentNode = targetNode\n",
        "      newCycle.append(currentNode)\n",
        "    cycle = newCycle\n",
        "\n",
        "  return cycle\n",
        "\n",
        "def ParseAdjList(adj_list_text):\n",
        "  adjList = {}\n",
        "  for line in inputLines:\n",
        "    # split ->\n",
        "    temp = line.split(' -> ')\n",
        "    adjList[temp[0]] = temp[1].split(',')\n",
        "  return adjList\n",
        "\n",
        "def FindEuerianPath(adj_list):\n",
        "  #for calculating the inegree outdegree of nodes\n",
        "    degree_diffs = {}\n",
        "    for source, targets in adj_list.items():\n",
        "        if source in degree_diffs:\n",
        "            degree_diffs[source] += len(targets)  #storing outdegree of a node\n",
        "        else:\n",
        "            degree_diffs[source] = len(targets)\n",
        "      \n",
        "        for target in targets:\n",
        "            if target in degree_diffs:\n",
        "                degree_diffs[target] -= 1  #finding out outdegree of target nodes recieved from upper loop\n",
        "            else:\n",
        "                degree_diffs[target] = -1\n",
        "        \n",
        "\n",
        "    #to_add_s = [node for node, diff in deg_diffs.items() if diff == -1][0]\n",
        "    for node, diff in degree_diffs.items():\n",
        "      if diff == -1:\n",
        "        ending_node = node\n",
        "   \n",
        "    #to_add_t = [node for node, diff in deg_diffs.items() if diff == 1][0]\n",
        "    for node, diff in degree_diffs.items():\n",
        "      if diff == 1:\n",
        "        starting_node = node\n",
        "    \n",
        "    #add edge from end node to start node\n",
        "    if ending_node in adj_list:\n",
        "        adj_list[ending_node].append(starting_node)  #if ending node present draw edge from ending to starting node\n",
        "    else:\n",
        "        adj_list[ending_node] = [starting_node]  #if ending node is not present create a new edge from ending node to starting node\n",
        "\n",
        "    eulercycle = FindEuerianCycle(adj_list)\n",
        "    idx = 0\n",
        "    while True:\n",
        "        if eulercycle[idx] == ending_node and eulercycle[idx + 1] == starting_node:\n",
        "            break\n",
        "        idx += 1\n",
        "    eulerpath = eulercycle[idx + 1:] + eulercycle[1:idx + 1]\n",
        "    return eulerpath\n",
        "\n",
        "# main function\n",
        "with open ('/content/rosalind_ba3g.txt', 'r') as f:\n",
        "    inputLines = [line.strip() for line in f.readlines()]\n",
        "\n",
        "adjList = ParseAdjList(inputLines)\n",
        "print(\"->\".join(FindEuerianPath(adjList)))"
      ],
      "execution_count": null,
      "outputs": [
        {
          "output_type": "stream",
          "text": [
            "6->7->8->9->6->3->0->2->1->3->4\n"
          ],
          "name": "stdout"
        }
      ]
    },
    {
      "cell_type": "markdown",
      "metadata": {
        "id": "ZWIMNhk2hVct"
      },
      "source": [
        "BA3H -> Reconstruct a String from its k-mer Composition"
      ]
    },
    {
      "cell_type": "code",
      "metadata": {
        "colab": {
          "base_uri": "https://localhost:8080/"
        },
        "id": "22-IOov0hZPJ",
        "outputId": "0ce59020-2ff7-47b9-8c76-e1691566a750"
      },
      "source": [
        "def SuffixofString(string):\n",
        "    return string[1:len(string)]\n",
        "\n",
        "def PrefixofString(string):\n",
        "    return string[0:len(string)-1]\n",
        "\n",
        "def ReconstructFromKmer(k, genomelist):\n",
        "  suffixarray = []\n",
        "  prefixarray = []\n",
        "  start_dict = {}\n",
        "  for genome in genomelist:\n",
        "    suffixarray.append(SuffixofString(genome))\n",
        "  for genome in genomelist:\n",
        "    prefixarray.append(PrefixofString(genome))\n",
        "    start_dict[genome[0:k-1]] = genome[k-1:k]  #for storing the last position\n",
        "    #for finding the start position\n",
        "  for prefix in prefixarray:\n",
        "    #if any prefix is not present in any suffix\n",
        "      if prefix not in suffixarray:\n",
        "        start = prefix;\n",
        "        break;\n",
        "  startgenome = start+start_dict[start]\n",
        "  for suffix in suffixarray:\n",
        "    #if any suffix is not present in any prefix\n",
        "      if suffix not in prefixarray:\n",
        "        end = suffix;\n",
        "        break;\n",
        "  path = startgenome\n",
        "  while True:\n",
        "    portion = path[len(path)-k+1:len(path)] #initially GGCT it is GCT #(2)portion path[5-4+1] = [2:5] = TTT and so on\n",
        "    #initially GCT is not end CCA\n",
        "    if portion == end:\n",
        "      break\n",
        "    else:\n",
        "      #GCT dict value T path becomes GCTTT. go to 2\n",
        "      path+=start_dict[portion]\n",
        "  return path\n",
        "\n",
        "k = 4\n",
        "# with open('/content/rosalind_ba3h.txt', 'r') as f:\n",
        "#         genomelist = [line.strip() for line in f.readlines()]\n",
        "genomelist = [\"CTTA\",\"ACCA\",\"TACC\",\"GGCT\",\"GCTT\", \"TTAC\"]\n",
        "path = ReconstructFromKmer(k, genomelist)\n",
        "print(path)\n"
      ],
      "execution_count": 7,
      "outputs": [
        {
          "output_type": "stream",
          "text": [
            "GGCTTACCA\n"
          ],
          "name": "stdout"
        }
      ]
    },
    {
      "cell_type": "markdown",
      "metadata": {
        "id": "K1zP6WDiID_l"
      },
      "source": [
        "ba3i -> Find a k-Universal Circular String"
      ]
    },
    {
      "cell_type": "code",
      "metadata": {
        "colab": {
          "base_uri": "https://localhost:8080/",
          "height": 52
        },
        "id": "_Q1_AmSZ7LIF",
        "outputId": "6c2ef919-26ef-44c4-99c8-cfa336b90b75"
      },
      "source": [
        "from random import choice\n",
        "\n",
        "\n",
        "def generateKmer(k):\n",
        "  kmers = []\n",
        "  for i in range(2 ** k):\n",
        "    kmer = str(bin(i))[2:]  #for removing 0b from starting\n",
        "    if kmer != k:\n",
        "      kmer = '0'*(k-len(kmer)) + kmer  \n",
        "\n",
        "    kmers.append(kmer) \n",
        "  return kmers\n",
        "\n",
        "def SuffixofString(string):\n",
        "    return string[1:len(string)]\n",
        "\n",
        "def PrefixofString(string):\n",
        "    return string[0:len(string)-1]\n",
        "\n",
        "def DeBruign(kmers):\n",
        "  result={}\n",
        "  for kmer in kmers:\n",
        "    if PrefixofString(kmer) not in result:\n",
        "      result[PrefixofString(kmer)] = SuffixofString(kmer)  #AAGA if mydict[AAG] is not in diction\n",
        "    else:\n",
        "      result[PrefixofString(kmer)] += ',' + SuffixofString(kmer)\n",
        "  return result\n",
        "\n",
        "def ParseAdjList(adj_list_text):\n",
        "  adjList = {}\n",
        "  for key, value in sorted(adj_list_text.items()):\n",
        "    adjList[key] = value.split(',')\n",
        "\n",
        "  return adjList\n",
        "\n",
        "def remove_edge(adj_list, from_node, to_node):\n",
        "    adj_list[from_node].remove(to_node)\n",
        "    if not adj_list[from_node]:\n",
        "        del adj_list[from_node]\n",
        "    return adj_list\n",
        "\n",
        "\n",
        "def Eulerian_cycle(adj_list):\n",
        "  # form a cycle Cycle by randomly walking in Graph\n",
        "  start_node, edges = choice(list(adj_list.items()))\n",
        "  target_node = choice(edges)\n",
        "  adj_list = remove_edge(adj_list, start_node, target_node)\n",
        "\n",
        "  Cycle = [start_node, target_node]\n",
        "  current_node = target_node\n",
        "  while current_node != start_node:\n",
        "    edges = adj_list[current_node]\n",
        "    target_node = choice(edges)\n",
        "    adj_list = remove_edge(adj_list, current_node, target_node)\n",
        "    current_node = target_node\n",
        "    Cycle.append(current_node)\n",
        "\n",
        "  while adj_list:\n",
        "    potential_starts = [(idx, node) for idx, node in enumerate(Cycle) if node in adj_list]\n",
        "    idx, new_start = choice(potential_starts)\n",
        "\n",
        "    # form Cycle’ by traversing Cycle (starting at newStart) and then randomly walking\n",
        "    new_cycle = Cycle[idx:] + Cycle[1:idx + 1]\n",
        "\n",
        "    target_node = choice(adj_list[new_start])\n",
        "    adj_list = remove_edge(adj_list, new_start, target_node)\n",
        "    current_node = target_node\n",
        "    new_cycle.append(current_node)\n",
        "    while current_node != new_start:\n",
        "      edges = adj_list[current_node]\n",
        "      target_node = choice(edges)\n",
        "      adj_list = remove_edge(adj_list, current_node, target_node)\n",
        "      current_node = target_node\n",
        "      new_cycle.append(current_node)\n",
        "    Cycle = new_cycle\n",
        "  return Cycle\n",
        "\n",
        "def KUniversalString(k):\n",
        "  kmers = generateKmer(k)\n",
        "  debruign = DeBruign(kmers)\n",
        "  adjList = ParseAdjList(debruign)\n",
        "  #print(adjList)\n",
        "  eulercycle = Eulerian_cycle(adjList)\n",
        "  newCycle = eulercycle[0:len(eulercycle)-k+1]  #we need len(cycle) -k +1 elements for generating string\n",
        "  #print(eulercycle)\n",
        "  str = newCycle[0][:-1]  #taking the first charachter of first element\n",
        "  for elem in newCycle:\n",
        "    str += elem[-1] #taking last elements of all the nodes\n",
        "  return str\n",
        "\n",
        "k = int(input())\n",
        "KUniversalString(k)"
      ],
      "execution_count": 8,
      "outputs": [
        {
          "output_type": "stream",
          "text": [
            "4\n"
          ],
          "name": "stdout"
        },
        {
          "output_type": "execute_result",
          "data": {
            "application/vnd.google.colaboratory.intrinsic+json": {
              "type": "string"
            },
            "text/plain": [
              "'1110000100110101'"
            ]
          },
          "metadata": {
            "tags": []
          },
          "execution_count": 8
        }
      ]
    },
    {
      "cell_type": "markdown",
      "metadata": {
        "id": "XE4gIcWvhlod"
      },
      "source": [
        "BA3L -> Construct a String Spelled by a Gapped Genome Path"
      ]
    },
    {
      "cell_type": "code",
      "metadata": {
        "colab": {
          "base_uri": "https://localhost:8080/"
        },
        "id": "t5GYf5HhhnN9",
        "outputId": "a42c0975-4bf9-4921-ee3c-00ac49ef8a27"
      },
      "source": [
        "def StringSpelledByGappedGenome(gapPatterns, k, d):\n",
        "  prefix = suffix = ''\n",
        "  for i, patterns in enumerate(gapPatterns):\n",
        "    if i != len(gapPatterns)-1:\n",
        "      prefix += patterns[0][0]\n",
        "      suffix += patterns[1][0]\n",
        "    else:\n",
        "      prefix += patterns[0]\n",
        "      suffix += patterns[1]\n",
        "  \n",
        "  for i in range(k+d+1, len(prefix)):\n",
        "    if prefix[i] != suffix[i-k-d-1]:\n",
        "      return \"Can't construct string\"\n",
        "  return prefix + suffix[len(suffix)-k-d-1:]\n",
        "\n",
        "\n",
        "# main function\n",
        "k = 4\n",
        "d = 2\n",
        "with open ('/content/rosalind_ba3l.txt', 'r') as f:\n",
        "  inputLines = [line.strip() for line in f.readlines()]\n",
        "\n",
        "gapPatterns = []\n",
        "for line in inputLines:\n",
        "  gapPatterns.append(line.split('|'))\n",
        "print(StringSpelledByGappedGenome(gapPatterns, k-1, d))"
      ],
      "execution_count": 9,
      "outputs": [
        {
          "output_type": "stream",
          "text": [
            "GACCGAGCGCCGGA\n"
          ],
          "name": "stdout"
        }
      ]
    }
  ]
}